{
 "cells": [
  {
   "cell_type": "code",
   "execution_count": 15,
   "metadata": {},
   "outputs": [
    {
     "name": "stdout",
     "output_type": "stream",
     "text": [
      "Requirement already satisfied: webdriver_manager in c:\\users\\user\\projects\\personal\\venv\\lib\\site-packages (4.0.1)\n",
      "Requirement already satisfied: requests in c:\\users\\user\\projects\\personal\\venv\\lib\\site-packages (from webdriver_manager) (2.31.0)\n",
      "Requirement already satisfied: packaging in c:\\users\\user\\projects\\personal\\venv\\lib\\site-packages (from webdriver_manager) (24.0)\n",
      "Requirement already satisfied: python-dotenv in c:\\users\\user\\projects\\personal\\venv\\lib\\site-packages (from webdriver_manager) (1.0.1)\n",
      "Requirement already satisfied: charset-normalizer<4,>=2 in c:\\users\\user\\projects\\personal\\venv\\lib\\site-packages (from requests->webdriver_manager) (3.3.2)\n",
      "Requirement already satisfied: idna<4,>=2.5 in c:\\users\\user\\projects\\personal\\venv\\lib\\site-packages (from requests->webdriver_manager) (3.7)\n",
      "Requirement already satisfied: certifi>=2017.4.17 in c:\\users\\user\\projects\\personal\\venv\\lib\\site-packages (from requests->webdriver_manager) (2024.2.2)\n",
      "Requirement already satisfied: urllib3<3,>=1.21.1 in c:\\users\\user\\projects\\personal\\venv\\lib\\site-packages (from requests->webdriver_manager) (2.2.1)\n",
      "Note: you may need to restart the kernel to use updated packages.\n"
     ]
    },
    {
     "name": "stderr",
     "output_type": "stream",
     "text": [
      "WARNING: You are using pip version 21.1.3; however, version 24.0 is available.\n",
      "You should consider upgrading via the 'c:\\Users\\USER\\projects\\personal\\venv\\Scripts\\python.exe -m pip install --upgrade pip' command.\n"
     ]
    }
   ],
   "source": [
    "%pip install webdriver_manager\n",
    "\n"
   ]
  },
  {
   "cell_type": "code",
   "execution_count": 16,
   "metadata": {},
   "outputs": [
    {
     "name": "stdout",
     "output_type": "stream",
     "text": [
      "Requirement already satisfied: user_agent in c:\\users\\user\\projects\\personal\\venv\\lib\\site-packages (0.1.10)\n",
      "Requirement already satisfied: six in c:\\users\\user\\projects\\personal\\venv\\lib\\site-packages (from user_agent) (1.16.0)\n",
      "Note: you may need to restart the kernel to use updated packages.\n"
     ]
    },
    {
     "name": "stderr",
     "output_type": "stream",
     "text": [
      "WARNING: You are using pip version 21.1.3; however, version 24.0 is available.\n",
      "You should consider upgrading via the 'c:\\Users\\USER\\projects\\personal\\venv\\Scripts\\python.exe -m pip install --upgrade pip' command.\n"
     ]
    }
   ],
   "source": [
    "%pip install user_agent"
   ]
  },
  {
   "cell_type": "code",
   "execution_count": 8,
   "metadata": {},
   "outputs": [],
   "source": [
    "from selenium import webdriver ## 브라우저를 제어하기 위한 모듈\n",
    "from webdriver_manager.chrome import ChromeDriverManager ## 크롬 드라이버를 자동으로 설치해주는 모듈\n",
    "from selenium.webdriver.chrome.service import Service as ChromeService ## 크롬 브라우저 제어\n",
    "from selenium.webdriver.support.wait import WebDriverWait ## 웹 페이지가 로딩될 때까지 대기하기 위한 모듈\n",
    "from selenium.webdriver.support import expected_conditions as EC ## 대기 조건을 설정하기 위한 모듈\n",
    "from selenium.webdriver.common.by import By ## 웹 요소를 선택하기 위한 모듈\n",
    "from selenium.webdriver.common.keys import Keys ## 키보드 입력을 위한 모듈\n",
    "\n",
    "## 크롬 옵션을 설정하기 위한 모듈\n",
    "options = webdriver.ChromeOptions()\n",
    "\n",
    "driver = webdriver.Chrome(\n",
    "    service=ChromeService(ChromeDriverManager().install()), options=options\n",
    ") ## 크롬드라이버를 설치하고 옵션을 적용하여 실행"
   ]
  },
  {
   "cell_type": "code",
   "execution_count": 9,
   "metadata": {},
   "outputs": [],
   "source": [
    "## user-agent 확인\n",
    "driver.get(\"https://www.whatismybrowser.com/detect/what-is-my-user-agent\")"
   ]
  },
  {
   "cell_type": "code",
   "execution_count": 10,
   "metadata": {},
   "outputs": [],
   "source": [
    "driver.quit() ## 브라우저 종료"
   ]
  },
  {
   "cell_type": "code",
   "execution_count": 11,
   "metadata": {},
   "outputs": [
    {
     "data": {
      "text/plain": [
       "'Mozilla/5.0 (X11; Linux i686 on x86_64) AppleWebKit/537.36 (KHTML, like Gecko) Chrome/86.0.4240.80 Safari/537.36'"
      ]
     },
     "execution_count": 11,
     "metadata": {},
     "output_type": "execute_result"
    }
   ],
   "source": [
    "from user_agent import generate_user_agent, generate_navigator\n",
    "user_agent = generate_user_agent()\n",
    "user_agent\n"
   ]
  },
  {
   "cell_type": "code",
   "execution_count": 13,
   "metadata": {},
   "outputs": [],
   "source": [
    "options = webdriver.ChromeOptions()\n",
    "options.add_argument(\n",
    "    f\"user-agent={user_agent}\"\n",
    ") ## 가짜 User-Agent 실행 \n",
    "driver = webdriver.Chrome(\n",
    "    service=ChromeService(ChromeDriverManager().install()), options=options\n",
    ") ## 크롬드라이버를 설치하고 옵션을 적용하여 실행\n",
    "driver.get(\"https://www.whatismybrowser.com/detect/what-is-my-user-agent\")"
   ]
  },
  {
   "cell_type": "markdown",
   "metadata": {},
   "source": [
    "## Ch1. 구글로 접속하기"
   ]
  },
  {
   "cell_type": "code",
   "execution_count": 14,
   "metadata": {},
   "outputs": [
    {
     "name": "stdout",
     "output_type": "stream",
     "text": [
      "이번 User-Agent: Mozilla/5.0 (X11; Linux i686 on x86_64; rv:45.0) Gecko/20100101 Firefox/45.0\n"
     ]
    }
   ],
   "source": [
    "from selenium import webdriver ## 브라우저를 제어하기 위한 모듈\n",
    "from webdriver_manager.chrome import ChromeDriverManager ## 크롬 드라이버를 자동으로 설치해주는 모듈\n",
    "from selenium.webdriver.chrome.service import Service as ChromeService ## 크롬 브라우저 제어\n",
    "from selenium.webdriver.support.wait import WebDriverWait ## 웹 페이지가 로딩될 때까지 대기하기 위한 모듈\n",
    "from selenium.webdriver.support import expected_conditions as EC ## 대기 조건을 설정하기 위한 모듈\n",
    "from selenium.webdriver.common.by import By ## 웹 요소를 선택하기 위한 모듈\n",
    "from selenium.webdriver.common.keys import Keys ## 키보드 입력을 위한 모듈\n",
    "from user_agent import generate_user_agent, generate_navigator\n",
    "user_agent = generate_user_agent()\n",
    "print(\"이번 User-Agent:\", user_agent)\n",
    "\n",
    "options = webdriver.ChromeOptions()\n",
    "\n",
    "## ✅ User-Agent가 변경될때마다 class명이 변경되는 경우가 있음\n",
    "## 가짜 User-Agent 실행 \n",
    "user_agent = '''Mozilla/5.0 (Windows NT 6.2; WOW64; rv:45.0) Gecko/20100101 Firefox/45.0'''\n",
    "options.add_argument(\n",
    "    f\"user-agent={user_agent}\"\n",
    ") \n",
    "\n",
    "\n",
    "driver = webdriver.Chrome(\n",
    "    service=ChromeService(ChromeDriverManager().install()), options=options\n",
    ") ## 크롬드라이버를 설치하고 옵션을 적용하여 실행\n",
    "driver.get(\"https://google.com\")"
   ]
  },
  {
   "cell_type": "code",
   "execution_count": 17,
   "metadata": {},
   "outputs": [],
   "source": [
    "# /html/body/center/form/table/tbody/tr/td[2]/div/div/input\n",
    "\n",
    "### XPATH로 요소 찾기\n",
    "### 요소가 보일때까지 대기\n",
    "waiting_searchbar = WebDriverWait(driver, 10).until(\n",
    "    EC.presence_of_element_located((By.XPATH, \"/html/body/center/form/table/tbody/tr/td[2]/div/div/input\"))\n",
    ")\n",
    "\n",
    "search_bar = driver.find_element(By.XPATH, \"/html/body/center/form/table/tbody/tr/td[2]/div/div/input\")"
   ]
  },
  {
   "cell_type": "code",
   "execution_count": 18,
   "metadata": {},
   "outputs": [
    {
     "data": {
      "text/plain": [
       "<selenium.webdriver.remote.webelement.WebElement (session=\"fa6ce1a033d268afa1f8e3731793aa7e\", element=\"f.9E5A3027BFD8619D2A567DF71D81C90A.d.60E799C1F5B9DDB2E15B5BCB81A90204.e.3\")>"
      ]
     },
     "execution_count": 18,
     "metadata": {},
     "output_type": "execute_result"
    }
   ],
   "source": [
    "search_bar"
   ]
  },
  {
   "cell_type": "code",
   "execution_count": 19,
   "metadata": {},
   "outputs": [],
   "source": [
    "## 요소를 찾았으면 검색어 입력\n",
    "search_bar.send_keys(\"Python\")"
   ]
  },
  {
   "cell_type": "code",
   "execution_count": 20,
   "metadata": {},
   "outputs": [],
   "source": [
    "## 엔터키 입력\n",
    "search_bar.send_keys(Keys.ENTER)"
   ]
  },
  {
   "cell_type": "code",
   "execution_count": 21,
   "metadata": {},
   "outputs": [],
   "source": [
    "## 검색결과 페이지가 로딩될때까지 대기\n",
    "WebDriverWait(driver, 20).until(\n",
    "    EC.presence_of_element_located((By.CLASS_NAME, \"egMi0\"))\n",
    ")\n",
    "\n",
    "## 검색결과\n",
    "search_results = driver.find_elements(By.CLASS_NAME, \"egMi0\")"
   ]
  },
  {
   "cell_type": "code",
   "execution_count": 22,
   "metadata": {},
   "outputs": [
    {
     "data": {
      "text/plain": [
       "[<selenium.webdriver.remote.webelement.WebElement (session=\"fa6ce1a033d268afa1f8e3731793aa7e\", element=\"f.9E5A3027BFD8619D2A567DF71D81C90A.d.54265118CD780F1F00CBDFFEE1F3CF76.e.438\")>,\n",
       " <selenium.webdriver.remote.webelement.WebElement (session=\"fa6ce1a033d268afa1f8e3731793aa7e\", element=\"f.9E5A3027BFD8619D2A567DF71D81C90A.d.54265118CD780F1F00CBDFFEE1F3CF76.e.440\")>,\n",
       " <selenium.webdriver.remote.webelement.WebElement (session=\"fa6ce1a033d268afa1f8e3731793aa7e\", element=\"f.9E5A3027BFD8619D2A567DF71D81C90A.d.54265118CD780F1F00CBDFFEE1F3CF76.e.442\")>,\n",
       " <selenium.webdriver.remote.webelement.WebElement (session=\"fa6ce1a033d268afa1f8e3731793aa7e\", element=\"f.9E5A3027BFD8619D2A567DF71D81C90A.d.54265118CD780F1F00CBDFFEE1F3CF76.e.444\")>,\n",
       " <selenium.webdriver.remote.webelement.WebElement (session=\"fa6ce1a033d268afa1f8e3731793aa7e\", element=\"f.9E5A3027BFD8619D2A567DF71D81C90A.d.54265118CD780F1F00CBDFFEE1F3CF76.e.446\")>,\n",
       " <selenium.webdriver.remote.webelement.WebElement (session=\"fa6ce1a033d268afa1f8e3731793aa7e\", element=\"f.9E5A3027BFD8619D2A567DF71D81C90A.d.54265118CD780F1F00CBDFFEE1F3CF76.e.448\")>,\n",
       " <selenium.webdriver.remote.webelement.WebElement (session=\"fa6ce1a033d268afa1f8e3731793aa7e\", element=\"f.9E5A3027BFD8619D2A567DF71D81C90A.d.54265118CD780F1F00CBDFFEE1F3CF76.e.450\")>]"
      ]
     },
     "execution_count": 22,
     "metadata": {},
     "output_type": "execute_result"
    }
   ],
   "source": [
    "search_results"
   ]
  },
  {
   "cell_type": "markdown",
   "metadata": {},
   "source": [
    "### Ch1-1. 데이터 파싱하기\n",
    "- WebElement : 웹페이지에 있는 요소를 의미함\n",
    "- https://selenium-python.readthedocs.io/\n"
   ]
  },
  {
   "cell_type": "code",
   "execution_count": 23,
   "metadata": {},
   "outputs": [
    {
     "name": "stdout",
     "output_type": "stream",
     "text": [
      "Title: Welcome to Python.org\n",
      "Title: Python - 나무위키\n",
      "Title: Python란 무엇인가요? - Python 언어 설명 - Amazon AWS\n",
      "Title: 1. 파이썬 시작하기 - 왕초보를 위한 Python: 쉽게 풀어 쓴 기초 문법과 ...\n",
      "Title: Python Tutorial - W3Schools\n",
      "Title: 파이썬 - 위키백과, 우리 모두의 백과사전\n",
      "Title: Get Started Tutorial for Python in Visual Studio Code\n"
     ]
    }
   ],
   "source": [
    "for idx, result in enumerate(search_results):\n",
    "    title = result.find_element(By.TAG_NAME, \"h3\")\n",
    "    \n",
    "    if title:\n",
    "        print(\"Title:\", title.text)\n",
    "    else:\n",
    "        print(\"Title: None\")"
   ]
  },
  {
   "cell_type": "code",
   "execution_count": 24,
   "metadata": {},
   "outputs": [
    {
     "data": {
      "text/plain": [
       "[<selenium.webdriver.remote.webelement.WebElement (session=\"fa6ce1a033d268afa1f8e3731793aa7e\", element=\"f.9E5A3027BFD8619D2A567DF71D81C90A.d.54265118CD780F1F00CBDFFEE1F3CF76.e.372\")>,\n",
       " <selenium.webdriver.remote.webelement.WebElement (session=\"fa6ce1a033d268afa1f8e3731793aa7e\", element=\"f.9E5A3027BFD8619D2A567DF71D81C90A.d.54265118CD780F1F00CBDFFEE1F3CF76.e.421\")>,\n",
       " <selenium.webdriver.remote.webelement.WebElement (session=\"fa6ce1a033d268afa1f8e3731793aa7e\", element=\"f.9E5A3027BFD8619D2A567DF71D81C90A.d.54265118CD780F1F00CBDFFEE1F3CF76.e.422\")>,\n",
       " <selenium.webdriver.remote.webelement.WebElement (session=\"fa6ce1a033d268afa1f8e3731793aa7e\", element=\"f.9E5A3027BFD8619D2A567DF71D81C90A.d.54265118CD780F1F00CBDFFEE1F3CF76.e.423\")>,\n",
       " <selenium.webdriver.remote.webelement.WebElement (session=\"fa6ce1a033d268afa1f8e3731793aa7e\", element=\"f.9E5A3027BFD8619D2A567DF71D81C90A.d.54265118CD780F1F00CBDFFEE1F3CF76.e.424\")>,\n",
       " <selenium.webdriver.remote.webelement.WebElement (session=\"fa6ce1a033d268afa1f8e3731793aa7e\", element=\"f.9E5A3027BFD8619D2A567DF71D81C90A.d.54265118CD780F1F00CBDFFEE1F3CF76.e.425\")>,\n",
       " <selenium.webdriver.remote.webelement.WebElement (session=\"fa6ce1a033d268afa1f8e3731793aa7e\", element=\"f.9E5A3027BFD8619D2A567DF71D81C90A.d.54265118CD780F1F00CBDFFEE1F3CF76.e.426\")>,\n",
       " <selenium.webdriver.remote.webelement.WebElement (session=\"fa6ce1a033d268afa1f8e3731793aa7e\", element=\"f.9E5A3027BFD8619D2A567DF71D81C90A.d.54265118CD780F1F00CBDFFEE1F3CF76.e.427\")>,\n",
       " <selenium.webdriver.remote.webelement.WebElement (session=\"fa6ce1a033d268afa1f8e3731793aa7e\", element=\"f.9E5A3027BFD8619D2A567DF71D81C90A.d.54265118CD780F1F00CBDFFEE1F3CF76.e.428\")>,\n",
       " <selenium.webdriver.remote.webelement.WebElement (session=\"fa6ce1a033d268afa1f8e3731793aa7e\", element=\"f.9E5A3027BFD8619D2A567DF71D81C90A.d.54265118CD780F1F00CBDFFEE1F3CF76.e.469\")>]"
      ]
     },
     "execution_count": 24,
     "metadata": {},
     "output_type": "execute_result"
    }
   ],
   "source": [
    "## 검색결과 페이지가 로딩될때까지 대기\n",
    "WebDriverWait(driver, 20).until(\n",
    "    EC.presence_of_element_located((By.CLASS_NAME, \"Gx5Zad\"))\n",
    ")\n",
    "\n",
    "## 스크랩 부분\n",
    "screenshot_results = driver.find_elements(By.CLASS_NAME, \"Gx5Zad\")\n",
    "screenshot_results"
   ]
  },
  {
   "cell_type": "code",
   "execution_count": 25,
   "metadata": {},
   "outputs": [],
   "source": [
    "import time\n",
    "for idx, i in enumerate(screenshot_results):\n",
    "    time.sleep(0.5)\n",
    "    if i.get_attribute(\"class\") == \"Gx5Zad fP1Qef xpd EtOod pkphOe\":\n",
    "        time.sleep(0.5)\n",
    "        screen = i.screenshot(f\"./screentshots/{idx}.png\")"
   ]
  },
  {
   "cell_type": "code",
   "execution_count": 26,
   "metadata": {},
   "outputs": [
    {
     "name": "stdout",
     "output_type": "stream",
     "text": [
      "이번 User-Agent: Mozilla/5.0 (X11; Ubuntu; Linux i686 on x86_64; rv:49.0) Gecko/20100101 Firefox/49.0\n"
     ]
    }
   ],
   "source": [
    "from selenium import webdriver ## 브라우저를 제어하기 위한 모듈\n",
    "from webdriver_manager.chrome import ChromeDriverManager ## 크롬 드라이버를 자동으로 설치해주는 모듈\n",
    "from selenium.webdriver.chrome.service import Service as ChromeService ## 크롬 브라우저 제어\n",
    "from selenium.webdriver.support.wait import WebDriverWait ## 웹 페이지가 로딩될 때까지 대기하기 위한 모듈\n",
    "from selenium.webdriver.support import expected_conditions as EC ## 대기 조건을 설정하기 위한 모듈\n",
    "from selenium.webdriver.common.by import By ## 웹 요소를 선택하기 위한 모듈\n",
    "from selenium.webdriver.common.keys import Keys ## 키보드 입력을 위한 모듈\n",
    "import time\n",
    "from user_agent import generate_user_agent, generate_navigator\n",
    "user_agent = generate_user_agent()\n",
    "print(\"이번 User-Agent:\", user_agent)\n",
    "\n",
    "options = webdriver.ChromeOptions()\n",
    "\n",
    "## ✅ User-Agent가 변경될때마다 class명이 변경되는 경우가 있음\n",
    "## 가짜 User-Agent 실행 \n",
    "user_agent = '''Mozilla/5.0 (Windows NT 6.2; WOW64; rv:45.0) Gecko/20100101 Firefox/45.0'''\n",
    "options.add_argument(\n",
    "    f\"user-agent={user_agent}\"\n",
    ") \n",
    "\n",
    "\n",
    "driver = webdriver.Chrome(\n",
    "    service=ChromeService(ChromeDriverManager().install()), options=options\n",
    ") ## 크롬드라이버를 설치하고 옵션을 적용하여 실행\n",
    "driver.get(\"https://news.naver.com/\")"
   ]
  },
  {
   "cell_type": "code",
   "execution_count": 27,
   "metadata": {},
   "outputs": [],
   "source": [
    "driver.maximize_window()"
   ]
  },
  {
   "cell_type": "code",
   "execution_count": 28,
   "metadata": {},
   "outputs": [
    {
     "data": {
      "text/plain": [
       "888"
      ]
     },
     "execution_count": 28,
     "metadata": {},
     "output_type": "execute_result"
    }
   ],
   "source": [
    "## 브라우저의 Y축 길이를 가져옴\n",
    "browser_height = driver.execute_script(\"return window.innerHeight\")\n",
    "browser_height"
   ]
  },
  {
   "cell_type": "code",
   "execution_count": 29,
   "metadata": {},
   "outputs": [
    {
     "data": {
      "text/plain": [
       "5386"
      ]
     },
     "execution_count": 29,
     "metadata": {},
     "output_type": "execute_result"
    }
   ],
   "source": [
    "## 스크롤 가능한 Y축 길이 측정\n",
    "total_height = driver.execute_script(\"return document.body.scrollHeight\")\n",
    "total_height"
   ]
  },
  {
   "cell_type": "code",
   "execution_count": 30,
   "metadata": {},
   "outputs": [],
   "source": [
    "## 브라우저 최상단으로 이동\n",
    "driver.execute_script(\"window.scrollTo(0, 0);\")"
   ]
  },
  {
   "cell_type": "code",
   "execution_count": 34,
   "metadata": {},
   "outputs": [],
   "source": [
    "driver.maximize_window()\n",
    "## 브라우저의 Y축 길이를 가져옴\n",
    "browser_height = driver.execute_script(\"return window.innerHeight\")\n",
    "## 스크롤 가능한 Y축 길이 측정\n",
    "total_height = driver.execute_script(\"return document.body.scrollHeight\")\n",
    "scroll_count = total_height // browser_height + 1"
   ]
  },
  {
   "cell_type": "code",
   "execution_count": 35,
   "metadata": {},
   "outputs": [
    {
     "name": "stdout",
     "output_type": "stream",
     "text": [
      "스크롤 횟수: 7 현재 1\n",
      "스크롤 횟수: 7 현재 2\n",
      "스크롤 횟수: 7 현재 3\n",
      "스크롤 횟수: 7 현재 4\n",
      "스크롤 횟수: 7 현재 5\n",
      "스크롤 횟수: 7 현재 6\n",
      "스크롤 횟수: 7 현재 7\n"
     ]
    }
   ],
   "source": [
    "for i in range(scroll_count):\n",
    "    cnt = i +1\n",
    "    print(\"스크롤 횟수:\", scroll_count, \"현재\", cnt )\n",
    "    driver.execute_script(f\"window.scrollTo(0, {browser_height*i});\")\n",
    "    time.sleep(2)"
   ]
  },
  {
   "cell_type": "code",
   "execution_count": 36,
   "metadata": {},
   "outputs": [
    {
     "name": "stdout",
     "output_type": "stream",
     "text": [
      "브라우저의 Y축 길이: 888\n",
      "브라우저의 크기 변경: 320 888\n",
      "브라우저 최상단 이동\n",
      "브라우저 크기: x:320 y:888, 전체 Y축 길이: 5126\n",
      "스크롤 횟수: 6\n",
      "스크롤 횟수: 6 현재 1\n",
      "스크롤 횟수: 6 현재 2\n",
      "스크롤 횟수: 6 현재 3\n",
      "스크롤 횟수: 6 현재 4\n",
      "스크롤 횟수: 6 현재 5\n",
      "스크롤 횟수: 6 현재 6\n",
      "브라우저의 Y축 길이: 888\n",
      "브라우저의 크기 변경: 480 888\n",
      "브라우저 최상단 이동\n",
      "브라우저 크기: x:480 y:888, 전체 Y축 길이: 5126\n",
      "스크롤 횟수: 6\n",
      "스크롤 횟수: 6 현재 1\n",
      "스크롤 횟수: 6 현재 2\n",
      "스크롤 횟수: 6 현재 3\n",
      "스크롤 횟수: 6 현재 4\n",
      "스크롤 횟수: 6 현재 5\n",
      "스크롤 횟수: 6 현재 6\n",
      "브라우저의 Y축 길이: 888\n",
      "브라우저의 크기 변경: 960 888\n",
      "브라우저 최상단 이동\n",
      "브라우저 크기: x:960 y:888, 전체 Y축 길이: 3300\n",
      "스크롤 횟수: 4\n",
      "스크롤 횟수: 4 현재 1\n",
      "스크롤 횟수: 4 현재 2\n",
      "스크롤 횟수: 4 현재 3\n",
      "스크롤 횟수: 4 현재 4\n",
      "브라우저의 Y축 길이: 888\n",
      "브라우저의 크기 변경: 1366 888\n",
      "브라우저 최상단 이동\n",
      "브라우저 크기: x:1366 y:888, 전체 Y축 길이: 5386\n",
      "스크롤 횟수: 7\n",
      "스크롤 횟수: 7 현재 1\n",
      "스크롤 횟수: 7 현재 2\n",
      "스크롤 횟수: 7 현재 3\n",
      "스크롤 횟수: 7 현재 4\n",
      "스크롤 횟수: 7 현재 5\n",
      "스크롤 횟수: 7 현재 6\n",
      "스크롤 횟수: 7 현재 7\n",
      "브라우저의 Y축 길이: 888\n",
      "브라우저의 크기 변경: 1920 888\n",
      "브라우저 최상단 이동\n",
      "브라우저 크기: x:1920 y:888, 전체 Y축 길이: 5386\n",
      "스크롤 횟수: 7\n",
      "스크롤 횟수: 7 현재 1\n",
      "스크롤 횟수: 7 현재 2\n",
      "스크롤 횟수: 7 현재 3\n",
      "스크롤 횟수: 7 현재 4\n",
      "스크롤 횟수: 7 현재 5\n",
      "스크롤 횟수: 7 현재 6\n",
      "스크롤 횟수: 7 현재 7\n"
     ]
    }
   ],
   "source": [
    "sizes = [320, 480, 960, 1366, 1920]\n",
    "## 브라우저의 Y축 길이를 가져옴\n",
    "browser_height = driver.execute_script(\"return window.innerHeight\")\n",
    "\n",
    "for size in sizes:    \n",
    "    time.sleep(1)\n",
    "    print(\"브라우저의 Y축 길이:\", browser_height)\n",
    "\n",
    "    ## 브라우저의 크기를 변경\n",
    "    driver.set_window_size(size, browser_height)\n",
    "    print(\"브라우저의 크기 변경:\", size, browser_height)\n",
    "    time.sleep(1)\n",
    "\n",
    "    ## 브라우저 최상단으로 이동\n",
    "    driver.execute_script(\"window.scrollTo(0, 0);\")\n",
    "    time.sleep(1)\n",
    "    print(\"브라우저 최상단 이동\")\n",
    "\n",
    "    ## 전체 Y축 길이 측정\n",
    "    total_height = driver.execute_script(\"return document.body.scrollHeight\")\n",
    "    print(f\"브라우저 크기: x:{size} y:{browser_height}, 전체 Y축 길이: {total_height}\")\n",
    "    scroll_count = total_height // browser_height + 1\n",
    "    print(f\"스크롤 횟수: {scroll_count}\")\n",
    "    \n",
    "    for i in range(scroll_count):\n",
    "        cnt = i +1\n",
    "        print(\"스크롤 횟수:\", scroll_count, \"현재\", cnt )\n",
    "        driver.execute_script(f\"window.scrollTo(0, {browser_height*i});\")\n",
    "        ## 전체화면 스크린샷 저장\n",
    "        driver.save_screenshot(f\"./screentshots/{size}_{cnt}.png\")\n",
    "        time.sleep(2)\n",
    "\n",
    "driver.quit()"
   ]
  }
 ],
 "metadata": {
  "kernelspec": {
   "display_name": "venv",
   "language": "python",
   "name": "python3"
  },
  "language_info": {
   "codemirror_mode": {
    "name": "ipython",
    "version": 3
   },
   "file_extension": ".py",
   "mimetype": "text/x-python",
   "name": "python",
   "nbconvert_exporter": "python",
   "pygments_lexer": "ipython3",
   "version": "3.9.6"
  }
 },
 "nbformat": 4,
 "nbformat_minor": 2
}
