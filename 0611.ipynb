{
 "cells": [
  {
   "cell_type": "code",
   "execution_count": 27,
   "metadata": {},
   "outputs": [],
   "source": [
    "from bs4 import BeautifulSoup\n",
    "from selenium import webdriver ## 브라우저 제어\n",
    "from selenium.webdriver.chrome.service import Service as ChromeService ## 크롬 브라우저 제어\n",
    "from selenium.webdriver.common.keys import Keys ## 키보드 제어\n",
    "from selenium.webdriver.support import expected_conditions as EC ## 웹페이지 조건 기다림\n",
    "from selenium.webdriver.support.ui import WebDriverWait ## 웹페이지 대기\n",
    "from selenium.webdriver.common.by import By ## 웹페이지 요소\n",
    "\n",
    "from webdriver_manager.chrome import ChromeDriverManager\n",
    "\n",
    "\n",
    "import warnings\n",
    "warnings.filterwarnings(action=\"ignore\")\n",
    "import re\n",
    "import pandas as pd\n",
    "import datetime\n",
    "import time\n",
    "import os\n",
    "from tqdm import tqdm\n",
    "\n",
    "today = datetime.date.today().strftime(\"%Y-%m-%d\")\n",
    "\n",
    "options = webdriver.ChromeOptions()\n",
    "options.add_argument(\"--disable-web-security\") ## 웹 보안 해제\n",
    "options.add_argument(\"--disable-site-isolation-trials\") ## 사이트 격리 해제\n",
    "options.add_argument(\"--window-size=1440,1200\") ## 창 크기\n",
    "\n",
    "# options.add_argument('headless') ## 헤드리스\n",
    "\n",
    "Keys = Keys()\n",
    "options.add_argument(\n",
    "    \"user-agent=Mozilla/5.0 (Macintosh; Intel Mac OS X 10_12_5) AppleWebKit/537.36 (KHTML, like Gecko) Chrome/49.0.2564.116 Safari/537.37\"\n",
    ") ## 가짜 User-Agent 실행 (크롬 49 버전으로 위장)\n",
    "\n",
    "\n",
    "driver = webdriver.Chrome(\n",
    "    service=ChromeService(ChromeDriverManager().install()), options=options\n",
    ") ## 크롬드라이버를 설치하고 옵션을 적용하여 실행\n",
    "\n",
    "driver.implicitly_wait(10) ## 웹페이지가 로드되는 시간을 암묵적 대기, 5초 기다림"
   ]
  },
  {
   "cell_type": "code",
   "execution_count": 28,
   "metadata": {},
   "outputs": [],
   "source": [
    "BASE_URL = '''https://www.wanted.co.kr/search?query=%EB%8D%B0%EC%9D%B4%ED%84%B0+%EB%B6%84%EC%84%9D&tab=position'''\n",
    "\n",
    "driver.get(BASE_URL)\n",
    "\n",
    "html = driver.page_source\n",
    "soup = BeautifulSoup(html, 'html.parser')"
   ]
  },
  {
   "cell_type": "code",
   "execution_count": 48,
   "metadata": {},
   "outputs": [
    {
     "ename": "KeyboardInterrupt",
     "evalue": "",
     "output_type": "error",
     "traceback": [
      "\u001b[1;31m---------------------------------------------------------------------------\u001b[0m",
      "\u001b[1;31mKeyboardInterrupt\u001b[0m                         Traceback (most recent call last)",
      "Cell \u001b[1;32mIn[48], line 9\u001b[0m\n\u001b[0;32m      7\u001b[0m \u001b[38;5;28;01mwhile\u001b[39;00m \u001b[38;5;28;01mTrue\u001b[39;00m:\n\u001b[0;32m      8\u001b[0m     driver\u001b[38;5;241m.\u001b[39mexecute_script(\u001b[38;5;124m\"\u001b[39m\u001b[38;5;124mwindow.scrollTo(0, document.body.scrollHeight);\u001b[39m\u001b[38;5;124m\"\u001b[39m)\n\u001b[1;32m----> 9\u001b[0m     \u001b[43mtime\u001b[49m\u001b[38;5;241;43m.\u001b[39;49m\u001b[43msleep\u001b[49m\u001b[43m(\u001b[49m\u001b[43mSCROLL_PAUSE_TIME\u001b[49m\u001b[43m)\u001b[49m\n\u001b[0;32m     10\u001b[0m     new_height \u001b[38;5;241m=\u001b[39m driver\u001b[38;5;241m.\u001b[39mexecute_script(\u001b[38;5;124m\"\u001b[39m\u001b[38;5;124mreturn document.body.scrollHeight\u001b[39m\u001b[38;5;124m\"\u001b[39m)\n\u001b[0;32m     11\u001b[0m     \u001b[38;5;28;01mif\u001b[39;00m new_height \u001b[38;5;241m==\u001b[39m last_height:\n",
      "\u001b[1;31mKeyboardInterrupt\u001b[0m: "
     ]
    }
   ],
   "source": [
    "time.sleep(1)\n",
    "\n",
    "## 무한 스크롤 아래로 내리기\n",
    "SCROLL_PAUSE_TIME = 2\n",
    "last_height = driver.execute_script(\"return document.body.scrollHeight\")\n",
    "\n",
    "while True:\n",
    "    driver.execute_script(\"window.scrollTo(0, document.body.scrollHeight);\")\n",
    "    time.sleep(SCROLL_PAUSE_TIME)\n",
    "    new_height = driver.execute_script(\"return document.body.scrollHeight\")\n",
    "    if new_height == last_height:\n",
    "        break\n",
    "    last_height = new_height"
   ]
  },
  {
   "cell_type": "code",
   "execution_count": 31,
   "metadata": {},
   "outputs": [],
   "source": [
    "## 페이지 소스 가져오기\n",
    "htmls = driver.page_source\n",
    "soups = BeautifulSoup(htmls, 'html.parser')\n",
    "\n",
    "items = soups.find_all('div', {'class': 'JobCard_container__FqChn JobCard_container--variant-card__znjV9'})"
   ]
  },
  {
   "cell_type": "code",
   "execution_count": 32,
   "metadata": {},
   "outputs": [
    {
     "data": {
      "text/plain": [
       "130"
      ]
     },
     "execution_count": 32,
     "metadata": {},
     "output_type": "execute_result"
    }
   ],
   "source": [
    "len(items)"
   ]
  },
  {
   "cell_type": "code",
   "execution_count": 33,
   "metadata": {},
   "outputs": [
    {
     "data": {
      "text/plain": [
       "121"
      ]
     },
     "execution_count": 33,
     "metadata": {},
     "output_type": "execute_result"
    }
   ],
   "source": [
    "items = list({item.text: item for item in items}.values())\n",
    "len(items)"
   ]
  },
  {
   "cell_type": "code",
   "execution_count": 34,
   "metadata": {},
   "outputs": [],
   "source": [
    "target_url_list = []\n",
    "for item in items:\n",
    "    url = 'https://www.wanted.co.kr'+item.find('a')['href']\n",
    "    target_url_list.append(url)"
   ]
  },
  {
   "cell_type": "code",
   "execution_count": 22,
   "metadata": {},
   "outputs": [
    {
     "data": {
      "text/plain": [
       "[]"
      ]
     },
     "execution_count": 22,
     "metadata": {},
     "output_type": "execute_result"
    }
   ],
   "source": [
    "target_url_list"
   ]
  },
  {
   "cell_type": "code",
   "execution_count": 36,
   "metadata": {},
   "outputs": [
    {
     "data": {
      "text/plain": [
       "'부릉'"
      ]
     },
     "execution_count": 36,
     "metadata": {},
     "output_type": "execute_result"
    }
   ],
   "source": [
    "driver.find_element(By.XPATH, '//*[@id=\"__next\"]/main/div[1]/div/section/header/div/div[1]/a').text"
   ]
  },
  {
   "cell_type": "code",
   "execution_count": 37,
   "metadata": {},
   "outputs": [
    {
     "data": {
      "text/plain": [
       "'Data Scientist'"
      ]
     },
     "execution_count": 37,
     "metadata": {},
     "output_type": "execute_result"
    }
   ],
   "source": [
    "driver.find_element(By.XPATH, '//*[@id=\"__next\"]/main/div[1]/div/section/header/h1').text"
   ]
  },
  {
   "cell_type": "code",
   "execution_count": 38,
   "metadata": {},
   "outputs": [],
   "source": [
    "company_name = driver.find_element(By.XPATH, '//*[@id=\"__next\"]/main/div[1]/div/section/header/div/div[1]/a').text\n",
    "title = driver.find_element('xpath', '//*[@id=\"__next\"]/main/div[1]/div/section/header/h1').text"
   ]
  },
  {
   "cell_type": "code",
   "execution_count": 39,
   "metadata": {},
   "outputs": [],
   "source": [
    "driver.find_element(By.XPATH, '//*[@id=\"__next\"]/main/div[1]/div/section/section/article[1]/div/button/span[2]').click()"
   ]
  },
  {
   "cell_type": "code",
   "execution_count": 55,
   "metadata": {},
   "outputs": [],
   "source": [
    "html = driver.page_source\n",
    "soup = BeautifulSoup(html, 'html.parser')\n",
    "\n",
    "## 상세 더보기 버튼 누르기\n",
    "try:\n",
    "    driver.find_element(By.XPATH, '//*[@id=\"__next\"]/main/div[1]/div/section/section/article[1]/div/button/span[2]').click()\n",
    "except:\n",
    "    pass\n",
    "\n",
    "position_detail = soup.find('section', {'class': 'JobContent_descriptionWrapper__SM4UD'})\\\n",
    "                    .find('article', {'class': 'JobDescription_JobDescription__VWfcb'})"
   ]
  },
  {
   "cell_type": "code",
   "execution_count": 56,
   "metadata": {},
   "outputs": [
    {
     "data": {
      "text/plain": [
       "'포지션 상세인터엑스는 제조AI 및 자율공장 전문 파트너 입니다.누구나 쉽게 빅데이터를 분석하고 쉽게 현장에 적용할 수 있도록 인공지능(AI) 기반 제조 빅데이터 분석 서비스 플랫폼을 제공하고 있습니다.인터엑스의 제조 빅데이터 분석 서비스는 현장의 데이터 수집부터 데이터 품질관리, Advanced 빅데이터 분석,  AI Library를 바탕으로 한 지능화된 공정 예측과 최적화를 통해 기업의 성장을 지원합니다.저희의 목표는 IoT(사물 인터넷)의 결합으로 개선된 프로세스를 현장에 쉽게 적용하여 스마트 제조 환경을 구현하는 것과 제조 빅데이터가 가지는 무궁무진한 가능성을 제조 기업 모두가 누리며 함께 성장하는 성공 스토리를 만드는데 있습니다.저희와 함께 제조AI 성공 스토리를 만들어갈 유능한 분들의 많은 지원 부탁 드립니다.주요업무[함께하시면 맡게 될 업무입니다!]- 이미지 및 영상 데이터 처리- 제조업 AI, 머신러닝, 딥러닝 알고리즘 최신 기술 연구 및 개발- 제조업 Defect classification, detection, segmentation, measurement 에 적용 가능한 알고리즘 연구 및 개발- 알고리즘 고도화자격요건[이런 분이 필요해요!] - 이미지 데이터에 대한 기초 지식이 있으신 분- Python을 활용하여 머신러닝/딥러닝 프로젝트 경험이 있으신 분- OpenCV, Numpy, Tensorflow 및 Pytorch 사용 경험이 있으신 분- CNN 및 transformer 사용 경험이 있으신 분- 최신 기술에 관심이 많은 분- 주도적으로 일을 만들고, 책임감 있게 리드하시는 분- 다른 직군과 함께 문제를 정의하고 해결책을 찾을 수 있는 분 [업무에 꼭 필요한 기술 스택 입니다]- Python- OpenCV, Numpy- Pytorch or Tensorflow상세 정보 더 보기'"
      ]
     },
     "execution_count": 56,
     "metadata": {},
     "output_type": "execute_result"
    }
   ],
   "source": [
    "position_detail.text"
   ]
  },
  {
   "cell_type": "code",
   "execution_count": null,
   "metadata": {},
   "outputs": [],
   "source": [
    "# html = driver.page_source\n",
    "# soup = BeautifulSoup(html, 'html.parser')\n",
    "\n",
    "# ## 상세정보 클릭\n",
    "# driver.find_element(By.XPATH, '//*[@id=\"__next\"]/main/div[1]/div/section/section/article[1]/div/button/span[2]').click()\n",
    "\n",
    "# ## 페이지 소스 업데이트\n",
    "# html = driver.page_source\n",
    "# soup = BeautifulSoup(html, 'html.parser')\n",
    "# position_detail = soup.find('section', {'class': 'JobContent_descriptionWrapper__SM4UD'})\\\n",
    "#                     .find('article', {'class': 'JobDescription_JobDescription__VWfcb'})"
   ]
  },
  {
   "cell_type": "code",
   "execution_count": 58,
   "metadata": {},
   "outputs": [],
   "source": [
    "html = driver.page_source\n",
    "soup = BeautifulSoup(html, 'html.parser')\n",
    "\n",
    "## 상세정보 클릭\n",
    "driver.find_element(By.XPATH, '//*[@id=\"__next\"]/main/div[1]/div/section/section/article[1]/div/button/span[2]').click()\n",
    "\n",
    "## 페이지 소스 업데이트\n",
    "html = driver.page_source\n",
    "soup = BeautifulSoup(html, 'html.parser')\n",
    "position_detail = soup.find('section', {'class': 'JobContent_descriptionWrapper__SM4UD'})\\\n",
    "                    .find('article', {'class': 'JobDescription_JobDescription__VWfcb'})"
   ]
  },
  {
   "cell_type": "code",
   "execution_count": 59,
   "metadata": {},
   "outputs": [],
   "source": [
    "team_info = position_detail.find('p').text"
   ]
  },
  {
   "cell_type": "code",
   "execution_count": 60,
   "metadata": {},
   "outputs": [],
   "source": [
    "team_info = position_detail.find('p').text\n",
    "main_job_title = position_detail.find_all('div', {'class': 'JobDescription_JobDescription__paragraph__Iwfqn'})[0].find('h3').text\n",
    "main_job_content = position_detail.find_all('div', {'class': 'JobDescription_JobDescription__paragraph__Iwfqn'})[0].find('p').text\n",
    "requirement_title = position_detail.find_all('div', {'class': 'JobDescription_JobDescription__paragraph__Iwfqn'})[1].find('h3').text\n",
    "requirement_content = position_detail.find_all('div', {'class': 'JobDescription_JobDescription__paragraph__Iwfqn'})[1].find('p').text\n",
    "\n",
    "preferred_title = position_detail.find_all('div', {'class': 'JobDescription_JobDescription__paragraph__Iwfqn'})[2].find('h3').text\n",
    "preferred_content = position_detail.find_all('div', {'class': 'JobDescription_JobDescription__paragraph__Iwfqn'})[2].find('p').text\n",
    "wellbeing_title = position_detail.find_all('div', {'class': 'JobDescription_JobDescription__paragraph__Iwfqn'})[3].find('h3').text\n",
    "wellbeing_content = position_detail.find_all('div', {'class': 'JobDescription_JobDescription__paragraph__Iwfqn'})[3].find('p').text"
   ]
  },
  {
   "cell_type": "code",
   "execution_count": 62,
   "metadata": {},
   "outputs": [],
   "source": [
    "html = driver.page_source\n",
    "soup = BeautifulSoup(html, 'html.parser')\n",
    "\n",
    "# JobSkillTags_JobSkillTags__V1tZr\n",
    "skill_stacks = soup.find('section', {'class': 'JobContent_descriptionWrapper__SM4UD'})\\\n",
    "                    .find('article', {'class': 'JobSkillTags_JobSkillTags__V1tZr'})\n",
    "\n",
    "skill_title = skill_stacks.find('h2').text\n",
    "skill_list = [i.text for i in skill_stacks.find('ul').find_all('li')]"
   ]
  },
  {
   "cell_type": "code",
   "execution_count": 64,
   "metadata": {},
   "outputs": [],
   "source": [
    "def detail_crawl(driver, index):\n",
    "    html = driver.page_source\n",
    "    soup = BeautifulSoup(html, 'html.parser')\n",
    "\n",
    "## 상세정보 클릭\n",
    "    driver.find_element(By.XPATH, '//*[@id=\"__next\"]/main/div[1]/div/section/section/article[1]/div/button/span[2]').click()\n",
    "    time.sleep(1)\n",
    "\n",
    "## 페이지 소스 업데이트\n",
    "    html = driver.page_source\n",
    "    soup = BeautifulSoup(html, 'html.parser')\n",
    "    position_detail = soup.find('section', {'class': 'JobContent_descriptionWrapper__SM4UD'})\\\n",
    "        .find('article', {'class': 'JobDescription_JobDescription__VWfcb'})\n",
    "    team_info = position_detail.find('p').text\n",
    "    team_info = position_detail.find('p').text\n",
    "    main_job_title = position_detail.find_all('div', {'class': 'JobDescription_JobDescription__paragraph__Iwfqn'})[index].find('h3').text\n",
    "    main_job_content = position_detail.find_all('div', {'class': 'JobDescription_JobDescription__paragraph__Iwfqn'})[index].find('p').text\n",
    "    requirement_title = position_detail.find_all('div', {'class': 'JobDescription_JobDescription__paragraph__Iwfqn'})[index].find('h3').text\n",
    "    requirement_content = position_detail.find_all('div', {'class': 'JobDescription_JobDescription__paragraph__Iwfqn'})[index].find('p').text\n",
    "\n",
    "    preferred_title = position_detail.find_all('div', {'class': 'JobDescription_JobDescription__paragraph__Iwfqn'})[index].find('h3').text\n",
    "    preferred_content = position_detail.find_all('div', {'class': 'JobDescription_JobDescription__paragraph__Iwfqn'})[index].find('p').text\n",
    "    wellbeing_title = position_detail.find_all('div', {'class': 'JobDescription_JobDescription__paragraph__Iwfqn'})[index].find('h3').text\n",
    "    wellbeing_content = position_detail.find_all('div', {'class': 'JobDescription_JobDescription__paragraph__Iwfqn'})[index].find('p').text"
   ]
  },
  {
   "cell_type": "code",
   "execution_count": 65,
   "metadata": {},
   "outputs": [],
   "source": [
    "def detail_crawl(driver, idx):\n",
    "\n",
    "    team_info = None\n",
    "    main_job_title = None\n",
    "    main_job_content = None\n",
    "    requirement_title = None\n",
    "    requirement_content = None\n",
    "    preferred_title = None\n",
    "    preferred_content = None\n",
    "    wellbeing_title = None\n",
    "    wellbeing_content = None\n",
    "    skill_title = None\n",
    "    skill_list = None\n",
    "    address = None\n",
    "    current_url = None\n",
    "\n",
    "\n",
    "    ## 상세 더보기 버튼 누르기\n",
    "    try:\n",
    "        driver.find_element('xpath', '//*[@id=\"__next\"]/main/div[1]/div/section/section/article[1]/div/button/span[2]').click()\n",
    "    except Exception as e:\n",
    "        print(idx, e)\n",
    "        pass\n",
    "\n",
    "    time.sleep(1)\n",
    "    \n",
    "    html = driver.page_source\n",
    "    soup = BeautifulSoup(html, 'html.parser')\n",
    "\n",
    "    company_name = driver.find_element('xpath', '//*[@id=\"__next\"]/main/div[1]/div/section/header/div/div[1]/a').text\n",
    "    title = driver.find_element('xpath', '//*[@id=\"__next\"]/main/div[1]/div/section/header/h1').text\n",
    "    try:\n",
    "        target_elements1 = driver.find_element('xpath', '//*[@id=\"__next\"]/main/div[1]/div/section/section/article[1]/div/div[1]/h3')\n",
    "        # 요소가 화면에 보이도록 스크롤\n",
    "        driver.execute_script(\"arguments[0].scrollIntoView();\", target_elements1)\n",
    "\n",
    "        # 요소가 보일때까지 대기\n",
    "        WebDriverWait(driver, 10).until(EC.presence_of_element_located((By.XPATH,\\\n",
    "        '//*[@id=\"__next\"]/main/div[1]/div/section/section/article[1]/div/div[1]/h3')))\n",
    "\n",
    "        ## 스크린샷 찍기\n",
    "        # driver.save_screenshot(f'screenshot/{idx}_{company_name}.png')\n",
    "\n",
    "        ## 저장할때까지 기다리기\n",
    "        time.sleep(1)\n",
    "    except Exception as e:\n",
    "        print(\"스크린샷 에러:\", idx, e)\n",
    "\n",
    "    try:\n",
    "        position_detail = soup.find('section', {'class': 'JobContent_descriptionWrapper__SM4UD'})\\\n",
    "                            .find('article', {'class': 'JobDescription_JobDescription__VWfcb'})\n",
    "        team_info = position_detail.find('p').text\n",
    "        main_job_title = position_detail.find_all('div', {'class': 'JobDescription_JobDescription__paragraph__Iwfqn'})[0].find('h3').text\n",
    "        main_job_content = position_detail.find_all('div', {'class': 'JobDescription_JobDescription__paragraph__Iwfqn'})[0].find('p').text\n",
    "        requirement_title = position_detail.find_all('div', {'class': 'JobDescription_JobDescription__paragraph__Iwfqn'})[1].find('h3').text\n",
    "        requirement_content = position_detail.find_all('div', {'class': 'JobDescription_JobDescription__paragraph__Iwfqn'})[1].find('p').text\n",
    "        \n",
    "        preferred_title = position_detail.find_all('div', {'class': 'JobDescription_JobDescription__paragraph__Iwfqn'})[2].find('h3').text\n",
    "        preferred_content = position_detail.find_all('div', {'class': 'JobDescription_JobDescription__paragraph__Iwfqn'})[2].find('p').text\n",
    "        wellbeing_title = position_detail.find_all('div', {'class': 'JobDescription_JobDescription__paragraph__Iwfqn'})[3].find('h3').text\n",
    "        wellbeing_content = position_detail.find_all('div', {'class': 'JobDescription_JobDescription__paragraph__Iwfqn'})[3].find('p').text\n",
    "        \n",
    "        ## 기술스택\n",
    "        skill_stacks = soup.find('section', {'class': 'JobContent_descriptionWrapper__SM4UD'})\\\n",
    "                            .find('article', {'class': 'JobSkillTags_JobSkillTags__V1tZr'})\n",
    "        \n",
    "        if skill_stacks:\n",
    "\n",
    "            skill_title = skill_stacks.find('h2').text\n",
    "            skill_list = [i.text for i in skill_stacks.find('ul').find_all('li')]\n",
    "\n",
    "        address = soup.find('article', {'class': 'JobWorkPlace_JobWorkPlace__5fs5x'}).find('span').text\n",
    "        current_url = driver.current_url\n",
    "    except Exception as e:\n",
    "        print(\"상세정보 에러:\", idx, e)\n",
    "        pass\n",
    "\n",
    "    return company_name, title, team_info, main_job_title, main_job_content, requirement_title, requirement_content, preferred_title, preferred_content, wellbeing_title, wellbeing_content, skill_title, skill_list, address, current_url"
   ]
  },
  {
   "cell_type": "code",
   "execution_count": 66,
   "metadata": {},
   "outputs": [
    {
     "data": {
      "text/plain": [
       "['https://www.wanted.co.kr/wd/224337',\n",
       " 'https://www.wanted.co.kr/wd/219966',\n",
       " 'https://www.wanted.co.kr/wd/215835',\n",
       " 'https://www.wanted.co.kr/wd/218916',\n",
       " 'https://www.wanted.co.kr/wd/224841',\n",
       " 'https://www.wanted.co.kr/wd/223481',\n",
       " 'https://www.wanted.co.kr/wd/222883',\n",
       " 'https://www.wanted.co.kr/wd/223175',\n",
       " 'https://www.wanted.co.kr/wd/161548',\n",
       " 'https://www.wanted.co.kr/wd/191674',\n",
       " 'https://www.wanted.co.kr/wd/216979',\n",
       " 'https://www.wanted.co.kr/wd/201396',\n",
       " 'https://www.wanted.co.kr/wd/215210',\n",
       " 'https://www.wanted.co.kr/wd/193901',\n",
       " 'https://www.wanted.co.kr/wd/142793',\n",
       " 'https://www.wanted.co.kr/wd/191938',\n",
       " 'https://www.wanted.co.kr/wd/219963',\n",
       " 'https://www.wanted.co.kr/wd/85810',\n",
       " 'https://www.wanted.co.kr/wd/224170',\n",
       " 'https://www.wanted.co.kr/wd/180914',\n",
       " 'https://www.wanted.co.kr/wd/208247',\n",
       " 'https://www.wanted.co.kr/wd/215111',\n",
       " 'https://www.wanted.co.kr/wd/221269',\n",
       " 'https://www.wanted.co.kr/wd/210507',\n",
       " 'https://www.wanted.co.kr/wd/212760',\n",
       " 'https://www.wanted.co.kr/wd/210157',\n",
       " 'https://www.wanted.co.kr/wd/210200',\n",
       " 'https://www.wanted.co.kr/wd/218746',\n",
       " 'https://www.wanted.co.kr/wd/213503',\n",
       " 'https://www.wanted.co.kr/wd/145246',\n",
       " 'https://www.wanted.co.kr/wd/207720',\n",
       " 'https://www.wanted.co.kr/wd/220513',\n",
       " 'https://www.wanted.co.kr/wd/204718',\n",
       " 'https://www.wanted.co.kr/wd/186195',\n",
       " 'https://www.wanted.co.kr/wd/216484',\n",
       " 'https://www.wanted.co.kr/wd/214874',\n",
       " 'https://www.wanted.co.kr/wd/110492',\n",
       " 'https://www.wanted.co.kr/wd/222878',\n",
       " 'https://www.wanted.co.kr/wd/202936',\n",
       " 'https://www.wanted.co.kr/wd/214061',\n",
       " 'https://www.wanted.co.kr/wd/219968',\n",
       " 'https://www.wanted.co.kr/wd/206929',\n",
       " 'https://www.wanted.co.kr/wd/220540',\n",
       " 'https://www.wanted.co.kr/wd/200992',\n",
       " 'https://www.wanted.co.kr/wd/224065',\n",
       " 'https://www.wanted.co.kr/wd/219967',\n",
       " 'https://www.wanted.co.kr/wd/180586',\n",
       " 'https://www.wanted.co.kr/wd/215426',\n",
       " 'https://www.wanted.co.kr/wd/217566',\n",
       " 'https://www.wanted.co.kr/wd/215993',\n",
       " 'https://www.wanted.co.kr/wd/210403',\n",
       " 'https://www.wanted.co.kr/wd/157552',\n",
       " 'https://www.wanted.co.kr/wd/223258',\n",
       " 'https://www.wanted.co.kr/wd/215345',\n",
       " 'https://www.wanted.co.kr/wd/203288',\n",
       " 'https://www.wanted.co.kr/wd/208973',\n",
       " 'https://www.wanted.co.kr/wd/189666',\n",
       " 'https://www.wanted.co.kr/wd/162084',\n",
       " 'https://www.wanted.co.kr/wd/209965',\n",
       " 'https://www.wanted.co.kr/wd/191088',\n",
       " 'https://www.wanted.co.kr/wd/213442',\n",
       " 'https://www.wanted.co.kr/wd/176470',\n",
       " 'https://www.wanted.co.kr/wd/197955',\n",
       " 'https://www.wanted.co.kr/wd/205486',\n",
       " 'https://www.wanted.co.kr/wd/200700',\n",
       " 'https://www.wanted.co.kr/wd/196128',\n",
       " 'https://www.wanted.co.kr/wd/225045',\n",
       " 'https://www.wanted.co.kr/wd/224969',\n",
       " 'https://www.wanted.co.kr/wd/71388',\n",
       " 'https://www.wanted.co.kr/wd/223227',\n",
       " 'https://www.wanted.co.kr/wd/130444',\n",
       " 'https://www.wanted.co.kr/wd/119414',\n",
       " 'https://www.wanted.co.kr/wd/107009',\n",
       " 'https://www.wanted.co.kr/wd/220186',\n",
       " 'https://www.wanted.co.kr/wd/223434',\n",
       " 'https://www.wanted.co.kr/wd/218572',\n",
       " 'https://www.wanted.co.kr/wd/223310',\n",
       " 'https://www.wanted.co.kr/wd/222011',\n",
       " 'https://www.wanted.co.kr/wd/222276',\n",
       " 'https://www.wanted.co.kr/wd/222965',\n",
       " 'https://www.wanted.co.kr/wd/156620',\n",
       " 'https://www.wanted.co.kr/wd/215042',\n",
       " 'https://www.wanted.co.kr/wd/219915',\n",
       " 'https://www.wanted.co.kr/wd/167495',\n",
       " 'https://www.wanted.co.kr/wd/180746',\n",
       " 'https://www.wanted.co.kr/wd/191443',\n",
       " 'https://www.wanted.co.kr/wd/223978',\n",
       " 'https://www.wanted.co.kr/wd/219384',\n",
       " 'https://www.wanted.co.kr/wd/220545',\n",
       " 'https://www.wanted.co.kr/wd/212988',\n",
       " 'https://www.wanted.co.kr/wd/221232',\n",
       " 'https://www.wanted.co.kr/wd/194470',\n",
       " 'https://www.wanted.co.kr/wd/196196',\n",
       " 'https://www.wanted.co.kr/wd/223023',\n",
       " 'https://www.wanted.co.kr/wd/184502',\n",
       " 'https://www.wanted.co.kr/wd/202177',\n",
       " 'https://www.wanted.co.kr/wd/219850',\n",
       " 'https://www.wanted.co.kr/wd/222747',\n",
       " 'https://www.wanted.co.kr/wd/212908',\n",
       " 'https://www.wanted.co.kr/wd/220589',\n",
       " 'https://www.wanted.co.kr/wd/155940',\n",
       " 'https://www.wanted.co.kr/wd/200350',\n",
       " 'https://www.wanted.co.kr/wd/203738',\n",
       " 'https://www.wanted.co.kr/wd/204725',\n",
       " 'https://www.wanted.co.kr/wd/207717',\n",
       " 'https://www.wanted.co.kr/wd/216937',\n",
       " 'https://www.wanted.co.kr/wd/221127',\n",
       " 'https://www.wanted.co.kr/wd/196930',\n",
       " 'https://www.wanted.co.kr/wd/211767',\n",
       " 'https://www.wanted.co.kr/wd/217760',\n",
       " 'https://www.wanted.co.kr/wd/209268',\n",
       " 'https://www.wanted.co.kr/wd/213508',\n",
       " 'https://www.wanted.co.kr/wd/210848',\n",
       " 'https://www.wanted.co.kr/wd/207288',\n",
       " 'https://www.wanted.co.kr/wd/208291',\n",
       " 'https://www.wanted.co.kr/wd/182096',\n",
       " 'https://www.wanted.co.kr/wd/178985',\n",
       " 'https://www.wanted.co.kr/wd/179347',\n",
       " 'https://www.wanted.co.kr/wd/193867',\n",
       " 'https://www.wanted.co.kr/wd/181976',\n",
       " 'https://www.wanted.co.kr/wd/149962']"
      ]
     },
     "execution_count": 66,
     "metadata": {},
     "output_type": "execute_result"
    }
   ],
   "source": [
    "target_url_list"
   ]
  },
  {
   "cell_type": "code",
   "execution_count": 67,
   "metadata": {},
   "outputs": [
    {
     "name": "stderr",
     "output_type": "stream",
     "text": [
      "  0%|          | 0/121 [00:00<?, ?it/s]"
     ]
    },
    {
     "name": "stdout",
     "output_type": "stream",
     "text": [
      "0 Message: element click intercepted: Element <span class=\"Button_Button__interaction__kkYaa\"></span> is not clickable at point (427, 1030). Other element would receive the click: <div class=\"ApplyBtn_container__pWc4W\">...</div>\n",
      "  (Session info: chrome=125.0.6422.142)\n",
      "Stacktrace:\n",
      "\tGetHandleVerifier [0x007DB8E3+45827]\n",
      "\t(No symbol) [0x0076DCC4]\n",
      "\t(No symbol) [0x0066150F]\n",
      "\t(No symbol) [0x006A8052]\n",
      "\t(No symbol) [0x006A63D8]\n",
      "\t(No symbol) [0x006A425B]\n",
      "\t(No symbol) [0x006A3823]\n",
      "\t(No symbol) [0x006985EF]\n",
      "\t(No symbol) [0x006C2DFC]\n",
      "\t(No symbol) [0x00698075]\n",
      "\t(No symbol) [0x006C3094]\n",
      "\t(No symbol) [0x006DC034]\n",
      "\t(No symbol) [0x006C2B96]\n",
      "\t(No symbol) [0x00696998]\n",
      "\t(No symbol) [0x0069751D]\n",
      "\tGetHandleVerifier [0x00A94513+2899763]\n",
      "\tGetHandleVerifier [0x00AE793D+3240797]\n",
      "\tGetHandleVerifier [0x008613B4+593364]\n",
      "\tGetHandleVerifier [0x008682DC+621820]\n",
      "\t(No symbol) [0x007770A4]\n",
      "\t(No symbol) [0x007737A8]\n",
      "\t(No symbol) [0x00773947]\n",
      "\t(No symbol) [0x007659FE]\n",
      "\tBaseThreadInitThunk [0x7725FCC9+25]\n",
      "\tRtlGetAppContainerNamedObjectPath [0x779C7CBE+286]\n",
      "\tRtlGetAppContainerNamedObjectPath [0x779C7C8E+238]\n",
      "\n",
      "상세정보 에러: 0 list index out of range\n"
     ]
    },
    {
     "name": "stderr",
     "output_type": "stream",
     "text": [
      "  1%|          | 1/121 [00:06<12:46,  6.39s/it]"
     ]
    },
    {
     "name": "stdout",
     "output_type": "stream",
     "text": [
      "1 Message: element click intercepted: Element <span class=\"Button_Button__interaction__kkYaa\"></span> is not clickable at point (427, 1030). Other element would receive the click: <div class=\"ApplyBtn_container__pWc4W\">...</div>\n",
      "  (Session info: chrome=125.0.6422.142)\n",
      "Stacktrace:\n",
      "\tGetHandleVerifier [0x007DB8E3+45827]\n",
      "\t(No symbol) [0x0076DCC4]\n",
      "\t(No symbol) [0x0066150F]\n",
      "\t(No symbol) [0x006A8052]\n",
      "\t(No symbol) [0x006A63D8]\n",
      "\t(No symbol) [0x006A425B]\n",
      "\t(No symbol) [0x006A3823]\n",
      "\t(No symbol) [0x006985EF]\n",
      "\t(No symbol) [0x006C2DFC]\n",
      "\t(No symbol) [0x00698075]\n",
      "\t(No symbol) [0x006C3094]\n",
      "\t(No symbol) [0x006DC034]\n",
      "\t(No symbol) [0x006C2B96]\n",
      "\t(No symbol) [0x00696998]\n",
      "\t(No symbol) [0x0069751D]\n",
      "\tGetHandleVerifier [0x00A94513+2899763]\n",
      "\tGetHandleVerifier [0x00AE793D+3240797]\n",
      "\tGetHandleVerifier [0x008613B4+593364]\n",
      "\tGetHandleVerifier [0x008682DC+621820]\n",
      "\t(No symbol) [0x007770A4]\n",
      "\t(No symbol) [0x007737A8]\n",
      "\t(No symbol) [0x00773947]\n",
      "\t(No symbol) [0x007659FE]\n",
      "\tBaseThreadInitThunk [0x7725FCC9+25]\n",
      "\tRtlGetAppContainerNamedObjectPath [0x779C7CBE+286]\n",
      "\tRtlGetAppContainerNamedObjectPath [0x779C7C8E+238]\n",
      "\n",
      "상세정보 에러: 1 list index out of range\n"
     ]
    },
    {
     "name": "stderr",
     "output_type": "stream",
     "text": [
      "  2%|▏         | 2/121 [00:11<11:34,  5.83s/it]"
     ]
    },
    {
     "name": "stdout",
     "output_type": "stream",
     "text": [
      "2 Message: element click intercepted: Element <span class=\"Button_Button__interaction__kkYaa\"></span> is not clickable at point (427, 1030). Other element would receive the click: <div class=\"ApplyBtn_container__pWc4W\">...</div>\n",
      "  (Session info: chrome=125.0.6422.142)\n",
      "Stacktrace:\n",
      "\tGetHandleVerifier [0x007DB8E3+45827]\n",
      "\t(No symbol) [0x0076DCC4]\n",
      "\t(No symbol) [0x0066150F]\n",
      "\t(No symbol) [0x006A8052]\n",
      "\t(No symbol) [0x006A63D8]\n",
      "\t(No symbol) [0x006A425B]\n",
      "\t(No symbol) [0x006A3823]\n",
      "\t(No symbol) [0x006985EF]\n",
      "\t(No symbol) [0x006C2DFC]\n",
      "\t(No symbol) [0x00698075]\n",
      "\t(No symbol) [0x006C3094]\n",
      "\t(No symbol) [0x006DC034]\n",
      "\t(No symbol) [0x006C2B96]\n",
      "\t(No symbol) [0x00696998]\n",
      "\t(No symbol) [0x0069751D]\n",
      "\tGetHandleVerifier [0x00A94513+2899763]\n",
      "\tGetHandleVerifier [0x00AE793D+3240797]\n",
      "\tGetHandleVerifier [0x008613B4+593364]\n",
      "\tGetHandleVerifier [0x008682DC+621820]\n",
      "\t(No symbol) [0x007770A4]\n",
      "\t(No symbol) [0x007737A8]\n",
      "\t(No symbol) [0x00773947]\n",
      "\t(No symbol) [0x007659FE]\n",
      "\tBaseThreadInitThunk [0x7725FCC9+25]\n",
      "\tRtlGetAppContainerNamedObjectPath [0x779C7CBE+286]\n",
      "\tRtlGetAppContainerNamedObjectPath [0x779C7C8E+238]\n",
      "\n",
      "상세정보 에러: 2 list index out of range\n"
     ]
    },
    {
     "name": "stderr",
     "output_type": "stream",
     "text": [
      "  2%|▏         | 3/121 [00:17<11:16,  5.74s/it]"
     ]
    },
    {
     "name": "stdout",
     "output_type": "stream",
     "text": [
      "3 Message: element click intercepted: Element <span class=\"Button_Button__interaction__kkYaa\"></span> is not clickable at point (427, 1030). Other element would receive the click: <div class=\"ApplyBtn_container__pWc4W\">...</div>\n",
      "  (Session info: chrome=125.0.6422.142)\n",
      "Stacktrace:\n",
      "\tGetHandleVerifier [0x007DB8E3+45827]\n",
      "\t(No symbol) [0x0076DCC4]\n",
      "\t(No symbol) [0x0066150F]\n",
      "\t(No symbol) [0x006A8052]\n",
      "\t(No symbol) [0x006A63D8]\n",
      "\t(No symbol) [0x006A425B]\n",
      "\t(No symbol) [0x006A3823]\n",
      "\t(No symbol) [0x006985EF]\n",
      "\t(No symbol) [0x006C2DFC]\n",
      "\t(No symbol) [0x00698075]\n",
      "\t(No symbol) [0x006C3094]\n",
      "\t(No symbol) [0x006DC034]\n",
      "\t(No symbol) [0x006C2B96]\n",
      "\t(No symbol) [0x00696998]\n",
      "\t(No symbol) [0x0069751D]\n",
      "\tGetHandleVerifier [0x00A94513+2899763]\n",
      "\tGetHandleVerifier [0x00AE793D+3240797]\n",
      "\tGetHandleVerifier [0x008613B4+593364]\n",
      "\tGetHandleVerifier [0x008682DC+621820]\n",
      "\t(No symbol) [0x007770A4]\n",
      "\t(No symbol) [0x007737A8]\n",
      "\t(No symbol) [0x00773947]\n",
      "\t(No symbol) [0x007659FE]\n",
      "\tBaseThreadInitThunk [0x7725FCC9+25]\n",
      "\tRtlGetAppContainerNamedObjectPath [0x779C7CBE+286]\n",
      "\tRtlGetAppContainerNamedObjectPath [0x779C7C8E+238]\n",
      "\n",
      "상세정보 에러: 3 list index out of range\n"
     ]
    },
    {
     "name": "stderr",
     "output_type": "stream",
     "text": [
      "  3%|▎         | 4/121 [00:22<10:58,  5.63s/it]"
     ]
    },
    {
     "name": "stdout",
     "output_type": "stream",
     "text": [
      "4 Message: element click intercepted: Element <span class=\"Button_Button__interaction__kkYaa\"></span> is not clickable at point (427, 1030). Other element would receive the click: <div class=\"ApplyBtn_container__pWc4W\">...</div>\n",
      "  (Session info: chrome=125.0.6422.142)\n",
      "Stacktrace:\n",
      "\tGetHandleVerifier [0x007DB8E3+45827]\n",
      "\t(No symbol) [0x0076DCC4]\n",
      "\t(No symbol) [0x0066150F]\n",
      "\t(No symbol) [0x006A8052]\n",
      "\t(No symbol) [0x006A63D8]\n",
      "\t(No symbol) [0x006A425B]\n",
      "\t(No symbol) [0x006A3823]\n",
      "\t(No symbol) [0x006985EF]\n",
      "\t(No symbol) [0x006C2DFC]\n",
      "\t(No symbol) [0x00698075]\n",
      "\t(No symbol) [0x006C3094]\n",
      "\t(No symbol) [0x006DC034]\n",
      "\t(No symbol) [0x006C2B96]\n",
      "\t(No symbol) [0x00696998]\n",
      "\t(No symbol) [0x0069751D]\n",
      "\tGetHandleVerifier [0x00A94513+2899763]\n",
      "\tGetHandleVerifier [0x00AE793D+3240797]\n",
      "\tGetHandleVerifier [0x008613B4+593364]\n",
      "\tGetHandleVerifier [0x008682DC+621820]\n",
      "\t(No symbol) [0x007770A4]\n",
      "\t(No symbol) [0x007737A8]\n",
      "\t(No symbol) [0x00773947]\n",
      "\t(No symbol) [0x007659FE]\n",
      "\tBaseThreadInitThunk [0x7725FCC9+25]\n",
      "\tRtlGetAppContainerNamedObjectPath [0x779C7CBE+286]\n",
      "\tRtlGetAppContainerNamedObjectPath [0x779C7C8E+238]\n",
      "\n",
      "상세정보 에러: 4 list index out of range\n"
     ]
    },
    {
     "name": "stderr",
     "output_type": "stream",
     "text": [
      "  4%|▍         | 5/121 [00:28<10:41,  5.53s/it]"
     ]
    },
    {
     "name": "stdout",
     "output_type": "stream",
     "text": [
      "5 Message: element click intercepted: Element <span class=\"Button_Button__interaction__kkYaa\"></span> is not clickable at point (427, 1030). Other element would receive the click: <div class=\"ApplyBtn_container__pWc4W\">...</div>\n",
      "  (Session info: chrome=125.0.6422.142)\n",
      "Stacktrace:\n",
      "\tGetHandleVerifier [0x007DB8E3+45827]\n",
      "\t(No symbol) [0x0076DCC4]\n",
      "\t(No symbol) [0x0066150F]\n",
      "\t(No symbol) [0x006A8052]\n",
      "\t(No symbol) [0x006A63D8]\n",
      "\t(No symbol) [0x006A425B]\n",
      "\t(No symbol) [0x006A3823]\n",
      "\t(No symbol) [0x006985EF]\n",
      "\t(No symbol) [0x006C2DFC]\n",
      "\t(No symbol) [0x00698075]\n",
      "\t(No symbol) [0x006C3094]\n",
      "\t(No symbol) [0x006DC034]\n",
      "\t(No symbol) [0x006C2B96]\n",
      "\t(No symbol) [0x00696998]\n",
      "\t(No symbol) [0x0069751D]\n",
      "\tGetHandleVerifier [0x00A94513+2899763]\n",
      "\tGetHandleVerifier [0x00AE793D+3240797]\n",
      "\tGetHandleVerifier [0x008613B4+593364]\n",
      "\tGetHandleVerifier [0x008682DC+621820]\n",
      "\t(No symbol) [0x007770A4]\n",
      "\t(No symbol) [0x007737A8]\n",
      "\t(No symbol) [0x00773947]\n",
      "\t(No symbol) [0x007659FE]\n",
      "\tBaseThreadInitThunk [0x7725FCC9+25]\n",
      "\tRtlGetAppContainerNamedObjectPath [0x779C7CBE+286]\n",
      "\tRtlGetAppContainerNamedObjectPath [0x779C7C8E+238]\n",
      "\n",
      "상세정보 에러: 5 list index out of range\n"
     ]
    },
    {
     "name": "stderr",
     "output_type": "stream",
     "text": [
      "  5%|▍         | 6/121 [00:33<10:26,  5.45s/it]"
     ]
    },
    {
     "name": "stdout",
     "output_type": "stream",
     "text": [
      "6 Message: element click intercepted: Element <span class=\"Button_Button__interaction__kkYaa\"></span> is not clickable at point (427, 1030). Other element would receive the click: <div class=\"ApplyBtn_container__pWc4W\">...</div>\n",
      "  (Session info: chrome=125.0.6422.142)\n",
      "Stacktrace:\n",
      "\tGetHandleVerifier [0x007DB8E3+45827]\n",
      "\t(No symbol) [0x0076DCC4]\n",
      "\t(No symbol) [0x0066150F]\n",
      "\t(No symbol) [0x006A8052]\n",
      "\t(No symbol) [0x006A63D8]\n",
      "\t(No symbol) [0x006A425B]\n",
      "\t(No symbol) [0x006A3823]\n",
      "\t(No symbol) [0x006985EF]\n",
      "\t(No symbol) [0x006C2DFC]\n",
      "\t(No symbol) [0x00698075]\n",
      "\t(No symbol) [0x006C3094]\n",
      "\t(No symbol) [0x006DC034]\n",
      "\t(No symbol) [0x006C2B96]\n",
      "\t(No symbol) [0x00696998]\n",
      "\t(No symbol) [0x0069751D]\n",
      "\tGetHandleVerifier [0x00A94513+2899763]\n",
      "\tGetHandleVerifier [0x00AE793D+3240797]\n",
      "\tGetHandleVerifier [0x008613B4+593364]\n",
      "\tGetHandleVerifier [0x008682DC+621820]\n",
      "\t(No symbol) [0x007770A4]\n",
      "\t(No symbol) [0x007737A8]\n",
      "\t(No symbol) [0x00773947]\n",
      "\t(No symbol) [0x007659FE]\n",
      "\tBaseThreadInitThunk [0x7725FCC9+25]\n",
      "\tRtlGetAppContainerNamedObjectPath [0x779C7CBE+286]\n",
      "\tRtlGetAppContainerNamedObjectPath [0x779C7C8E+238]\n",
      "\n",
      "상세정보 에러: 6 list index out of range\n"
     ]
    },
    {
     "name": "stderr",
     "output_type": "stream",
     "text": [
      "  6%|▌         | 7/121 [00:39<10:31,  5.54s/it]"
     ]
    },
    {
     "name": "stdout",
     "output_type": "stream",
     "text": [
      "7 Message: element click intercepted: Element <span class=\"Button_Button__interaction__kkYaa\"></span> is not clickable at point (427, 1030). Other element would receive the click: <div class=\"ApplyBtn_container__pWc4W\">...</div>\n",
      "  (Session info: chrome=125.0.6422.142)\n",
      "Stacktrace:\n",
      "\tGetHandleVerifier [0x007DB8E3+45827]\n",
      "\t(No symbol) [0x0076DCC4]\n",
      "\t(No symbol) [0x0066150F]\n",
      "\t(No symbol) [0x006A8052]\n",
      "\t(No symbol) [0x006A63D8]\n",
      "\t(No symbol) [0x006A425B]\n",
      "\t(No symbol) [0x006A3823]\n",
      "\t(No symbol) [0x006985EF]\n",
      "\t(No symbol) [0x006C2DFC]\n",
      "\t(No symbol) [0x00698075]\n",
      "\t(No symbol) [0x006C3094]\n",
      "\t(No symbol) [0x006DC034]\n",
      "\t(No symbol) [0x006C2B96]\n",
      "\t(No symbol) [0x00696998]\n",
      "\t(No symbol) [0x0069751D]\n",
      "\tGetHandleVerifier [0x00A94513+2899763]\n",
      "\tGetHandleVerifier [0x00AE793D+3240797]\n",
      "\tGetHandleVerifier [0x008613B4+593364]\n",
      "\tGetHandleVerifier [0x008682DC+621820]\n",
      "\t(No symbol) [0x007770A4]\n",
      "\t(No symbol) [0x007737A8]\n",
      "\t(No symbol) [0x00773947]\n",
      "\t(No symbol) [0x007659FE]\n",
      "\tBaseThreadInitThunk [0x7725FCC9+25]\n",
      "\tRtlGetAppContainerNamedObjectPath [0x779C7CBE+286]\n",
      "\tRtlGetAppContainerNamedObjectPath [0x779C7C8E+238]\n",
      "\n",
      "상세정보 에러: 7 list index out of range\n"
     ]
    },
    {
     "name": "stderr",
     "output_type": "stream",
     "text": [
      "  7%|▋         | 8/121 [00:45<10:34,  5.61s/it]"
     ]
    },
    {
     "name": "stdout",
     "output_type": "stream",
     "text": [
      "8 Message: element click intercepted: Element <span class=\"Button_Button__interaction__kkYaa\"></span> is not clickable at point (427, 1030). Other element would receive the click: <div class=\"ApplyBtn_container__pWc4W\">...</div>\n",
      "  (Session info: chrome=125.0.6422.142)\n",
      "Stacktrace:\n",
      "\tGetHandleVerifier [0x007DB8E3+45827]\n",
      "\t(No symbol) [0x0076DCC4]\n",
      "\t(No symbol) [0x0066150F]\n",
      "\t(No symbol) [0x006A8052]\n",
      "\t(No symbol) [0x006A63D8]\n",
      "\t(No symbol) [0x006A425B]\n",
      "\t(No symbol) [0x006A3823]\n",
      "\t(No symbol) [0x006985EF]\n",
      "\t(No symbol) [0x006C2DFC]\n",
      "\t(No symbol) [0x00698075]\n",
      "\t(No symbol) [0x006C3094]\n",
      "\t(No symbol) [0x006DC034]\n",
      "\t(No symbol) [0x006C2B96]\n",
      "\t(No symbol) [0x00696998]\n",
      "\t(No symbol) [0x0069751D]\n",
      "\tGetHandleVerifier [0x00A94513+2899763]\n",
      "\tGetHandleVerifier [0x00AE793D+3240797]\n",
      "\tGetHandleVerifier [0x008613B4+593364]\n",
      "\tGetHandleVerifier [0x008682DC+621820]\n",
      "\t(No symbol) [0x007770A4]\n",
      "\t(No symbol) [0x007737A8]\n",
      "\t(No symbol) [0x00773947]\n",
      "\t(No symbol) [0x007659FE]\n",
      "\tBaseThreadInitThunk [0x7725FCC9+25]\n",
      "\tRtlGetAppContainerNamedObjectPath [0x779C7CBE+286]\n",
      "\tRtlGetAppContainerNamedObjectPath [0x779C7C8E+238]\n",
      "\n",
      "상세정보 에러: 8 list index out of range\n"
     ]
    },
    {
     "name": "stderr",
     "output_type": "stream",
     "text": [
      "  7%|▋         | 9/121 [00:50<10:20,  5.54s/it]"
     ]
    },
    {
     "name": "stdout",
     "output_type": "stream",
     "text": [
      "9 Message: element click intercepted: Element <span class=\"Button_Button__interaction__kkYaa\"></span> is not clickable at point (427, 1030). Other element would receive the click: <div class=\"ApplyBtn_container__pWc4W\">...</div>\n",
      "  (Session info: chrome=125.0.6422.142)\n",
      "Stacktrace:\n",
      "\tGetHandleVerifier [0x007DB8E3+45827]\n",
      "\t(No symbol) [0x0076DCC4]\n",
      "\t(No symbol) [0x0066150F]\n",
      "\t(No symbol) [0x006A8052]\n",
      "\t(No symbol) [0x006A63D8]\n",
      "\t(No symbol) [0x006A425B]\n",
      "\t(No symbol) [0x006A3823]\n",
      "\t(No symbol) [0x006985EF]\n",
      "\t(No symbol) [0x006C2DFC]\n",
      "\t(No symbol) [0x00698075]\n",
      "\t(No symbol) [0x006C3094]\n",
      "\t(No symbol) [0x006DC034]\n",
      "\t(No symbol) [0x006C2B96]\n",
      "\t(No symbol) [0x00696998]\n",
      "\t(No symbol) [0x0069751D]\n",
      "\tGetHandleVerifier [0x00A94513+2899763]\n",
      "\tGetHandleVerifier [0x00AE793D+3240797]\n",
      "\tGetHandleVerifier [0x008613B4+593364]\n",
      "\tGetHandleVerifier [0x008682DC+621820]\n",
      "\t(No symbol) [0x007770A4]\n",
      "\t(No symbol) [0x007737A8]\n",
      "\t(No symbol) [0x00773947]\n",
      "\t(No symbol) [0x007659FE]\n",
      "\tBaseThreadInitThunk [0x7725FCC9+25]\n",
      "\tRtlGetAppContainerNamedObjectPath [0x779C7CBE+286]\n",
      "\tRtlGetAppContainerNamedObjectPath [0x779C7C8E+238]\n",
      "\n",
      "상세정보 에러: 9 list index out of range\n"
     ]
    },
    {
     "name": "stderr",
     "output_type": "stream",
     "text": [
      "  8%|▊         | 10/121 [00:55<10:14,  5.53s/it]"
     ]
    },
    {
     "name": "stdout",
     "output_type": "stream",
     "text": [
      "10 Message: element click intercepted: Element <span class=\"Button_Button__interaction__kkYaa\"></span> is not clickable at point (427, 1030). Other element would receive the click: <div class=\"ApplyBtn_container__pWc4W\">...</div>\n",
      "  (Session info: chrome=125.0.6422.142)\n",
      "Stacktrace:\n",
      "\tGetHandleVerifier [0x007DB8E3+45827]\n",
      "\t(No symbol) [0x0076DCC4]\n",
      "\t(No symbol) [0x0066150F]\n",
      "\t(No symbol) [0x006A8052]\n",
      "\t(No symbol) [0x006A63D8]\n",
      "\t(No symbol) [0x006A425B]\n",
      "\t(No symbol) [0x006A3823]\n",
      "\t(No symbol) [0x006985EF]\n",
      "\t(No symbol) [0x006C2DFC]\n",
      "\t(No symbol) [0x00698075]\n",
      "\t(No symbol) [0x006C3094]\n",
      "\t(No symbol) [0x006DC034]\n",
      "\t(No symbol) [0x006C2B96]\n",
      "\t(No symbol) [0x00696998]\n",
      "\t(No symbol) [0x0069751D]\n",
      "\tGetHandleVerifier [0x00A94513+2899763]\n",
      "\tGetHandleVerifier [0x00AE793D+3240797]\n",
      "\tGetHandleVerifier [0x008613B4+593364]\n",
      "\tGetHandleVerifier [0x008682DC+621820]\n",
      "\t(No symbol) [0x007770A4]\n",
      "\t(No symbol) [0x007737A8]\n",
      "\t(No symbol) [0x00773947]\n",
      "\t(No symbol) [0x007659FE]\n",
      "\tBaseThreadInitThunk [0x7725FCC9+25]\n",
      "\tRtlGetAppContainerNamedObjectPath [0x779C7CBE+286]\n",
      "\tRtlGetAppContainerNamedObjectPath [0x779C7C8E+238]\n",
      "\n",
      "상세정보 에러: 10 list index out of range\n"
     ]
    },
    {
     "name": "stderr",
     "output_type": "stream",
     "text": [
      "  9%|▉         | 11/121 [01:01<10:12,  5.57s/it]"
     ]
    },
    {
     "name": "stdout",
     "output_type": "stream",
     "text": [
      "11 Message: element click intercepted: Element <span class=\"Button_Button__interaction__kkYaa\"></span> is not clickable at point (427, 1030). Other element would receive the click: <div class=\"ApplyBtn_container__pWc4W\">...</div>\n",
      "  (Session info: chrome=125.0.6422.142)\n",
      "Stacktrace:\n",
      "\tGetHandleVerifier [0x007DB8E3+45827]\n",
      "\t(No symbol) [0x0076DCC4]\n",
      "\t(No symbol) [0x0066150F]\n",
      "\t(No symbol) [0x006A8052]\n",
      "\t(No symbol) [0x006A63D8]\n",
      "\t(No symbol) [0x006A425B]\n",
      "\t(No symbol) [0x006A3823]\n",
      "\t(No symbol) [0x006985EF]\n",
      "\t(No symbol) [0x006C2DFC]\n",
      "\t(No symbol) [0x00698075]\n",
      "\t(No symbol) [0x006C3094]\n",
      "\t(No symbol) [0x006DC034]\n",
      "\t(No symbol) [0x006C2B96]\n",
      "\t(No symbol) [0x00696998]\n",
      "\t(No symbol) [0x0069751D]\n",
      "\tGetHandleVerifier [0x00A94513+2899763]\n",
      "\tGetHandleVerifier [0x00AE793D+3240797]\n",
      "\tGetHandleVerifier [0x008613B4+593364]\n",
      "\tGetHandleVerifier [0x008682DC+621820]\n",
      "\t(No symbol) [0x007770A4]\n",
      "\t(No symbol) [0x007737A8]\n",
      "\t(No symbol) [0x00773947]\n",
      "\t(No symbol) [0x007659FE]\n",
      "\tBaseThreadInitThunk [0x7725FCC9+25]\n",
      "\tRtlGetAppContainerNamedObjectPath [0x779C7CBE+286]\n",
      "\tRtlGetAppContainerNamedObjectPath [0x779C7C8E+238]\n",
      "\n",
      "상세정보 에러: 11 list index out of range\n"
     ]
    },
    {
     "name": "stderr",
     "output_type": "stream",
     "text": [
      " 10%|▉         | 12/121 [01:07<10:14,  5.63s/it]"
     ]
    },
    {
     "name": "stdout",
     "output_type": "stream",
     "text": [
      "12 Message: element click intercepted: Element <span class=\"Button_Button__interaction__kkYaa\"></span> is not clickable at point (427, 1030). Other element would receive the click: <div class=\"ApplyBtn_container__pWc4W\">...</div>\n",
      "  (Session info: chrome=125.0.6422.142)\n",
      "Stacktrace:\n",
      "\tGetHandleVerifier [0x007DB8E3+45827]\n",
      "\t(No symbol) [0x0076DCC4]\n",
      "\t(No symbol) [0x0066150F]\n",
      "\t(No symbol) [0x006A8052]\n",
      "\t(No symbol) [0x006A63D8]\n",
      "\t(No symbol) [0x006A425B]\n",
      "\t(No symbol) [0x006A3823]\n",
      "\t(No symbol) [0x006985EF]\n",
      "\t(No symbol) [0x006C2DFC]\n",
      "\t(No symbol) [0x00698075]\n",
      "\t(No symbol) [0x006C3094]\n",
      "\t(No symbol) [0x006DC034]\n",
      "\t(No symbol) [0x006C2B96]\n",
      "\t(No symbol) [0x00696998]\n",
      "\t(No symbol) [0x0069751D]\n",
      "\tGetHandleVerifier [0x00A94513+2899763]\n",
      "\tGetHandleVerifier [0x00AE793D+3240797]\n",
      "\tGetHandleVerifier [0x008613B4+593364]\n",
      "\tGetHandleVerifier [0x008682DC+621820]\n",
      "\t(No symbol) [0x007770A4]\n",
      "\t(No symbol) [0x007737A8]\n",
      "\t(No symbol) [0x00773947]\n",
      "\t(No symbol) [0x007659FE]\n",
      "\tBaseThreadInitThunk [0x7725FCC9+25]\n",
      "\tRtlGetAppContainerNamedObjectPath [0x779C7CBE+286]\n",
      "\tRtlGetAppContainerNamedObjectPath [0x779C7C8E+238]\n",
      "\n",
      "상세정보 에러: 12 list index out of range\n"
     ]
    },
    {
     "name": "stderr",
     "output_type": "stream",
     "text": [
      " 11%|█         | 13/121 [01:12<09:59,  5.55s/it]"
     ]
    },
    {
     "name": "stdout",
     "output_type": "stream",
     "text": [
      "13 Message: element click intercepted: Element <span class=\"Button_Button__interaction__kkYaa\"></span> is not clickable at point (427, 1030). Other element would receive the click: <div class=\"ApplyBtn_container__pWc4W\">...</div>\n",
      "  (Session info: chrome=125.0.6422.142)\n",
      "Stacktrace:\n",
      "\tGetHandleVerifier [0x007DB8E3+45827]\n",
      "\t(No symbol) [0x0076DCC4]\n",
      "\t(No symbol) [0x0066150F]\n",
      "\t(No symbol) [0x006A8052]\n",
      "\t(No symbol) [0x006A63D8]\n",
      "\t(No symbol) [0x006A425B]\n",
      "\t(No symbol) [0x006A3823]\n",
      "\t(No symbol) [0x006985EF]\n",
      "\t(No symbol) [0x006C2DFC]\n",
      "\t(No symbol) [0x00698075]\n",
      "\t(No symbol) [0x006C3094]\n",
      "\t(No symbol) [0x006DC034]\n",
      "\t(No symbol) [0x006C2B96]\n",
      "\t(No symbol) [0x00696998]\n",
      "\t(No symbol) [0x0069751D]\n",
      "\tGetHandleVerifier [0x00A94513+2899763]\n",
      "\tGetHandleVerifier [0x00AE793D+3240797]\n",
      "\tGetHandleVerifier [0x008613B4+593364]\n",
      "\tGetHandleVerifier [0x008682DC+621820]\n",
      "\t(No symbol) [0x007770A4]\n",
      "\t(No symbol) [0x007737A8]\n",
      "\t(No symbol) [0x00773947]\n",
      "\t(No symbol) [0x007659FE]\n",
      "\tBaseThreadInitThunk [0x7725FCC9+25]\n",
      "\tRtlGetAppContainerNamedObjectPath [0x779C7CBE+286]\n",
      "\tRtlGetAppContainerNamedObjectPath [0x779C7C8E+238]\n",
      "\n",
      "상세정보 에러: 13 list index out of range\n"
     ]
    },
    {
     "name": "stderr",
     "output_type": "stream",
     "text": [
      " 12%|█▏        | 14/121 [01:19<10:10,  5.71s/it]\n"
     ]
    },
    {
     "ename": "KeyboardInterrupt",
     "evalue": "",
     "output_type": "error",
     "traceback": [
      "\u001b[1;31m---------------------------------------------------------------------------\u001b[0m",
      "\u001b[1;31mKeyboardInterrupt\u001b[0m                         Traceback (most recent call last)",
      "Cell \u001b[1;32mIn[67], line 5\u001b[0m\n\u001b[0;32m      3\u001b[0m \u001b[38;5;28;01mfor\u001b[39;00m idx, target \u001b[38;5;129;01min\u001b[39;00m \u001b[38;5;28menumerate\u001b[39m(tqdm(target_url_list)):\n\u001b[0;32m      4\u001b[0m     \u001b[38;5;28;01mtry\u001b[39;00m :\n\u001b[1;32m----> 5\u001b[0m         \u001b[43mdriver\u001b[49m\u001b[38;5;241;43m.\u001b[39;49m\u001b[43mget\u001b[49m\u001b[43m(\u001b[49m\u001b[43mtarget\u001b[49m\u001b[43m)\u001b[49m\n\u001b[0;32m      6\u001b[0m         company_name, title, team_info, main_job_title, main_job_content, requirement_title, requirement_content, preferred_title, preferred_content, wellbeing_title, wellbeing_content, skill_title, skill_list, address, current_url \u001b[38;5;241m=\u001b[39m detail_crawl(driver, idx)\n\u001b[0;32m      7\u001b[0m         time\u001b[38;5;241m.\u001b[39msleep(\u001b[38;5;241m1\u001b[39m)\n",
      "File \u001b[1;32mc:\\Users\\USER\\projects\\personal\\venv\\lib\\site-packages\\selenium\\webdriver\\remote\\webdriver.py:356\u001b[0m, in \u001b[0;36mWebDriver.get\u001b[1;34m(self, url)\u001b[0m\n\u001b[0;32m    354\u001b[0m \u001b[38;5;28;01mdef\u001b[39;00m \u001b[38;5;21mget\u001b[39m(\u001b[38;5;28mself\u001b[39m, url: \u001b[38;5;28mstr\u001b[39m) \u001b[38;5;241m-\u001b[39m\u001b[38;5;241m>\u001b[39m \u001b[38;5;28;01mNone\u001b[39;00m:\n\u001b[0;32m    355\u001b[0m \u001b[38;5;250m    \u001b[39m\u001b[38;5;124;03m\"\"\"Loads a web page in the current browser session.\"\"\"\u001b[39;00m\n\u001b[1;32m--> 356\u001b[0m     \u001b[38;5;28;43mself\u001b[39;49m\u001b[38;5;241;43m.\u001b[39;49m\u001b[43mexecute\u001b[49m\u001b[43m(\u001b[49m\u001b[43mCommand\u001b[49m\u001b[38;5;241;43m.\u001b[39;49m\u001b[43mGET\u001b[49m\u001b[43m,\u001b[49m\u001b[43m \u001b[49m\u001b[43m{\u001b[49m\u001b[38;5;124;43m\"\u001b[39;49m\u001b[38;5;124;43murl\u001b[39;49m\u001b[38;5;124;43m\"\u001b[39;49m\u001b[43m:\u001b[49m\u001b[43m \u001b[49m\u001b[43murl\u001b[49m\u001b[43m}\u001b[49m\u001b[43m)\u001b[49m\n",
      "File \u001b[1;32mc:\\Users\\USER\\projects\\personal\\venv\\lib\\site-packages\\selenium\\webdriver\\remote\\webdriver.py:345\u001b[0m, in \u001b[0;36mWebDriver.execute\u001b[1;34m(self, driver_command, params)\u001b[0m\n\u001b[0;32m    342\u001b[0m     \u001b[38;5;28;01melif\u001b[39;00m \u001b[38;5;124m\"\u001b[39m\u001b[38;5;124msessionId\u001b[39m\u001b[38;5;124m\"\u001b[39m \u001b[38;5;129;01mnot\u001b[39;00m \u001b[38;5;129;01min\u001b[39;00m params:\n\u001b[0;32m    343\u001b[0m         params[\u001b[38;5;124m\"\u001b[39m\u001b[38;5;124msessionId\u001b[39m\u001b[38;5;124m\"\u001b[39m] \u001b[38;5;241m=\u001b[39m \u001b[38;5;28mself\u001b[39m\u001b[38;5;241m.\u001b[39msession_id\n\u001b[1;32m--> 345\u001b[0m response \u001b[38;5;241m=\u001b[39m \u001b[38;5;28;43mself\u001b[39;49m\u001b[38;5;241;43m.\u001b[39;49m\u001b[43mcommand_executor\u001b[49m\u001b[38;5;241;43m.\u001b[39;49m\u001b[43mexecute\u001b[49m\u001b[43m(\u001b[49m\u001b[43mdriver_command\u001b[49m\u001b[43m,\u001b[49m\u001b[43m \u001b[49m\u001b[43mparams\u001b[49m\u001b[43m)\u001b[49m\n\u001b[0;32m    346\u001b[0m \u001b[38;5;28;01mif\u001b[39;00m response:\n\u001b[0;32m    347\u001b[0m     \u001b[38;5;28mself\u001b[39m\u001b[38;5;241m.\u001b[39merror_handler\u001b[38;5;241m.\u001b[39mcheck_response(response)\n",
      "File \u001b[1;32mc:\\Users\\USER\\projects\\personal\\venv\\lib\\site-packages\\selenium\\webdriver\\remote\\remote_connection.py:302\u001b[0m, in \u001b[0;36mRemoteConnection.execute\u001b[1;34m(self, command, params)\u001b[0m\n\u001b[0;32m    300\u001b[0m trimmed \u001b[38;5;241m=\u001b[39m \u001b[38;5;28mself\u001b[39m\u001b[38;5;241m.\u001b[39m_trim_large_entries(params)\n\u001b[0;32m    301\u001b[0m LOGGER\u001b[38;5;241m.\u001b[39mdebug(\u001b[38;5;124m\"\u001b[39m\u001b[38;5;132;01m%s\u001b[39;00m\u001b[38;5;124m \u001b[39m\u001b[38;5;132;01m%s\u001b[39;00m\u001b[38;5;124m \u001b[39m\u001b[38;5;132;01m%s\u001b[39;00m\u001b[38;5;124m\"\u001b[39m, command_info[\u001b[38;5;241m0\u001b[39m], url, \u001b[38;5;28mstr\u001b[39m(trimmed))\n\u001b[1;32m--> 302\u001b[0m \u001b[38;5;28;01mreturn\u001b[39;00m \u001b[38;5;28;43mself\u001b[39;49m\u001b[38;5;241;43m.\u001b[39;49m\u001b[43m_request\u001b[49m\u001b[43m(\u001b[49m\u001b[43mcommand_info\u001b[49m\u001b[43m[\u001b[49m\u001b[38;5;241;43m0\u001b[39;49m\u001b[43m]\u001b[49m\u001b[43m,\u001b[49m\u001b[43m \u001b[49m\u001b[43murl\u001b[49m\u001b[43m,\u001b[49m\u001b[43m \u001b[49m\u001b[43mbody\u001b[49m\u001b[38;5;241;43m=\u001b[39;49m\u001b[43mdata\u001b[49m\u001b[43m)\u001b[49m\n",
      "File \u001b[1;32mc:\\Users\\USER\\projects\\personal\\venv\\lib\\site-packages\\selenium\\webdriver\\remote\\remote_connection.py:322\u001b[0m, in \u001b[0;36mRemoteConnection._request\u001b[1;34m(self, method, url, body)\u001b[0m\n\u001b[0;32m    319\u001b[0m     body \u001b[38;5;241m=\u001b[39m \u001b[38;5;28;01mNone\u001b[39;00m\n\u001b[0;32m    321\u001b[0m \u001b[38;5;28;01mif\u001b[39;00m \u001b[38;5;28mself\u001b[39m\u001b[38;5;241m.\u001b[39mkeep_alive:\n\u001b[1;32m--> 322\u001b[0m     response \u001b[38;5;241m=\u001b[39m \u001b[38;5;28;43mself\u001b[39;49m\u001b[38;5;241;43m.\u001b[39;49m\u001b[43m_conn\u001b[49m\u001b[38;5;241;43m.\u001b[39;49m\u001b[43mrequest\u001b[49m\u001b[43m(\u001b[49m\u001b[43mmethod\u001b[49m\u001b[43m,\u001b[49m\u001b[43m \u001b[49m\u001b[43murl\u001b[49m\u001b[43m,\u001b[49m\u001b[43m \u001b[49m\u001b[43mbody\u001b[49m\u001b[38;5;241;43m=\u001b[39;49m\u001b[43mbody\u001b[49m\u001b[43m,\u001b[49m\u001b[43m \u001b[49m\u001b[43mheaders\u001b[49m\u001b[38;5;241;43m=\u001b[39;49m\u001b[43mheaders\u001b[49m\u001b[43m)\u001b[49m\n\u001b[0;32m    323\u001b[0m     statuscode \u001b[38;5;241m=\u001b[39m response\u001b[38;5;241m.\u001b[39mstatus\n\u001b[0;32m    324\u001b[0m \u001b[38;5;28;01melse\u001b[39;00m:\n",
      "File \u001b[1;32mc:\\Users\\USER\\projects\\personal\\venv\\lib\\site-packages\\urllib3\\_request_methods.py:144\u001b[0m, in \u001b[0;36mRequestMethods.request\u001b[1;34m(self, method, url, body, fields, headers, json, **urlopen_kw)\u001b[0m\n\u001b[0;32m    136\u001b[0m     \u001b[38;5;28;01mreturn\u001b[39;00m \u001b[38;5;28mself\u001b[39m\u001b[38;5;241m.\u001b[39mrequest_encode_url(\n\u001b[0;32m    137\u001b[0m         method,\n\u001b[0;32m    138\u001b[0m         url,\n\u001b[1;32m   (...)\u001b[0m\n\u001b[0;32m    141\u001b[0m         \u001b[38;5;241m*\u001b[39m\u001b[38;5;241m*\u001b[39murlopen_kw,\n\u001b[0;32m    142\u001b[0m     )\n\u001b[0;32m    143\u001b[0m \u001b[38;5;28;01melse\u001b[39;00m:\n\u001b[1;32m--> 144\u001b[0m     \u001b[38;5;28;01mreturn\u001b[39;00m \u001b[38;5;28mself\u001b[39m\u001b[38;5;241m.\u001b[39mrequest_encode_body(\n\u001b[0;32m    145\u001b[0m         method, url, fields\u001b[38;5;241m=\u001b[39mfields, headers\u001b[38;5;241m=\u001b[39mheaders, \u001b[38;5;241m*\u001b[39m\u001b[38;5;241m*\u001b[39murlopen_kw\n\u001b[0;32m    146\u001b[0m     )\n",
      "File \u001b[1;32mc:\\Users\\USER\\projects\\personal\\venv\\lib\\site-packages\\urllib3\\_request_methods.py:279\u001b[0m, in \u001b[0;36mRequestMethods.request_encode_body\u001b[1;34m(self, method, url, fields, headers, encode_multipart, multipart_boundary, **urlopen_kw)\u001b[0m\n\u001b[0;32m    275\u001b[0m     extra_kw[\u001b[38;5;124m\"\u001b[39m\u001b[38;5;124mheaders\u001b[39m\u001b[38;5;124m\"\u001b[39m]\u001b[38;5;241m.\u001b[39msetdefault(\u001b[38;5;124m\"\u001b[39m\u001b[38;5;124mContent-Type\u001b[39m\u001b[38;5;124m\"\u001b[39m, content_type)\n\u001b[0;32m    277\u001b[0m extra_kw\u001b[38;5;241m.\u001b[39mupdate(urlopen_kw)\n\u001b[1;32m--> 279\u001b[0m \u001b[38;5;28;01mreturn\u001b[39;00m \u001b[38;5;28mself\u001b[39m\u001b[38;5;241m.\u001b[39murlopen(method, url, \u001b[38;5;241m*\u001b[39m\u001b[38;5;241m*\u001b[39mextra_kw)\n",
      "File \u001b[1;32mc:\\Users\\USER\\projects\\personal\\venv\\lib\\site-packages\\urllib3\\poolmanager.py:444\u001b[0m, in \u001b[0;36mPoolManager.urlopen\u001b[1;34m(self, method, url, redirect, **kw)\u001b[0m\n\u001b[0;32m    442\u001b[0m     response \u001b[38;5;241m=\u001b[39m conn\u001b[38;5;241m.\u001b[39murlopen(method, url, \u001b[38;5;241m*\u001b[39m\u001b[38;5;241m*\u001b[39mkw)\n\u001b[0;32m    443\u001b[0m \u001b[38;5;28;01melse\u001b[39;00m:\n\u001b[1;32m--> 444\u001b[0m     response \u001b[38;5;241m=\u001b[39m conn\u001b[38;5;241m.\u001b[39murlopen(method, u\u001b[38;5;241m.\u001b[39mrequest_uri, \u001b[38;5;241m*\u001b[39m\u001b[38;5;241m*\u001b[39mkw)\n\u001b[0;32m    446\u001b[0m redirect_location \u001b[38;5;241m=\u001b[39m redirect \u001b[38;5;129;01mand\u001b[39;00m response\u001b[38;5;241m.\u001b[39mget_redirect_location()\n\u001b[0;32m    447\u001b[0m \u001b[38;5;28;01mif\u001b[39;00m \u001b[38;5;129;01mnot\u001b[39;00m redirect_location:\n",
      "File \u001b[1;32mc:\\Users\\USER\\projects\\personal\\venv\\lib\\site-packages\\urllib3\\connectionpool.py:793\u001b[0m, in \u001b[0;36mHTTPConnectionPool.urlopen\u001b[1;34m(self, method, url, body, headers, retries, redirect, assert_same_host, timeout, pool_timeout, release_conn, chunked, body_pos, preload_content, decode_content, **response_kw)\u001b[0m\n\u001b[0;32m    790\u001b[0m response_conn \u001b[38;5;241m=\u001b[39m conn \u001b[38;5;28;01mif\u001b[39;00m \u001b[38;5;129;01mnot\u001b[39;00m release_conn \u001b[38;5;28;01melse\u001b[39;00m \u001b[38;5;28;01mNone\u001b[39;00m\n\u001b[0;32m    792\u001b[0m \u001b[38;5;66;03m# Make the request on the HTTPConnection object\u001b[39;00m\n\u001b[1;32m--> 793\u001b[0m response \u001b[38;5;241m=\u001b[39m \u001b[38;5;28mself\u001b[39m\u001b[38;5;241m.\u001b[39m_make_request(\n\u001b[0;32m    794\u001b[0m     conn,\n\u001b[0;32m    795\u001b[0m     method,\n\u001b[0;32m    796\u001b[0m     url,\n\u001b[0;32m    797\u001b[0m     timeout\u001b[38;5;241m=\u001b[39mtimeout_obj,\n\u001b[0;32m    798\u001b[0m     body\u001b[38;5;241m=\u001b[39mbody,\n\u001b[0;32m    799\u001b[0m     headers\u001b[38;5;241m=\u001b[39mheaders,\n\u001b[0;32m    800\u001b[0m     chunked\u001b[38;5;241m=\u001b[39mchunked,\n\u001b[0;32m    801\u001b[0m     retries\u001b[38;5;241m=\u001b[39mretries,\n\u001b[0;32m    802\u001b[0m     response_conn\u001b[38;5;241m=\u001b[39mresponse_conn,\n\u001b[0;32m    803\u001b[0m     preload_content\u001b[38;5;241m=\u001b[39mpreload_content,\n\u001b[0;32m    804\u001b[0m     decode_content\u001b[38;5;241m=\u001b[39mdecode_content,\n\u001b[0;32m    805\u001b[0m     \u001b[38;5;241m*\u001b[39m\u001b[38;5;241m*\u001b[39mresponse_kw,\n\u001b[0;32m    806\u001b[0m )\n\u001b[0;32m    808\u001b[0m \u001b[38;5;66;03m# Everything went great!\u001b[39;00m\n\u001b[0;32m    809\u001b[0m clean_exit \u001b[38;5;241m=\u001b[39m \u001b[38;5;28;01mTrue\u001b[39;00m\n",
      "File \u001b[1;32mc:\\Users\\USER\\projects\\personal\\venv\\lib\\site-packages\\urllib3\\connectionpool.py:537\u001b[0m, in \u001b[0;36mHTTPConnectionPool._make_request\u001b[1;34m(self, conn, method, url, body, headers, retries, timeout, chunked, response_conn, preload_content, decode_content, enforce_content_length)\u001b[0m\n\u001b[0;32m    535\u001b[0m \u001b[38;5;66;03m# Receive the response from the server\u001b[39;00m\n\u001b[0;32m    536\u001b[0m \u001b[38;5;28;01mtry\u001b[39;00m:\n\u001b[1;32m--> 537\u001b[0m     response \u001b[38;5;241m=\u001b[39m \u001b[43mconn\u001b[49m\u001b[38;5;241;43m.\u001b[39;49m\u001b[43mgetresponse\u001b[49m\u001b[43m(\u001b[49m\u001b[43m)\u001b[49m\n\u001b[0;32m    538\u001b[0m \u001b[38;5;28;01mexcept\u001b[39;00m (BaseSSLError, \u001b[38;5;167;01mOSError\u001b[39;00m) \u001b[38;5;28;01mas\u001b[39;00m e:\n\u001b[0;32m    539\u001b[0m     \u001b[38;5;28mself\u001b[39m\u001b[38;5;241m.\u001b[39m_raise_timeout(err\u001b[38;5;241m=\u001b[39me, url\u001b[38;5;241m=\u001b[39murl, timeout_value\u001b[38;5;241m=\u001b[39mread_timeout)\n",
      "File \u001b[1;32mc:\\Users\\USER\\projects\\personal\\venv\\lib\\site-packages\\urllib3\\connection.py:466\u001b[0m, in \u001b[0;36mHTTPConnection.getresponse\u001b[1;34m(self)\u001b[0m\n\u001b[0;32m    463\u001b[0m \u001b[38;5;28;01mfrom\u001b[39;00m \u001b[38;5;21;01m.\u001b[39;00m\u001b[38;5;21;01mresponse\u001b[39;00m \u001b[38;5;28;01mimport\u001b[39;00m HTTPResponse\n\u001b[0;32m    465\u001b[0m \u001b[38;5;66;03m# Get the response from http.client.HTTPConnection\u001b[39;00m\n\u001b[1;32m--> 466\u001b[0m httplib_response \u001b[38;5;241m=\u001b[39m \u001b[38;5;28;43msuper\u001b[39;49m\u001b[43m(\u001b[49m\u001b[43m)\u001b[49m\u001b[38;5;241;43m.\u001b[39;49m\u001b[43mgetresponse\u001b[49m\u001b[43m(\u001b[49m\u001b[43m)\u001b[49m\n\u001b[0;32m    468\u001b[0m \u001b[38;5;28;01mtry\u001b[39;00m:\n\u001b[0;32m    469\u001b[0m     assert_header_parsing(httplib_response\u001b[38;5;241m.\u001b[39mmsg)\n",
      "File \u001b[1;32m~\\AppData\\Local\\Programs\\Python\\Python39\\lib\\http\\client.py:1349\u001b[0m, in \u001b[0;36mHTTPConnection.getresponse\u001b[1;34m(self)\u001b[0m\n\u001b[0;32m   1347\u001b[0m \u001b[38;5;28;01mtry\u001b[39;00m:\n\u001b[0;32m   1348\u001b[0m     \u001b[38;5;28;01mtry\u001b[39;00m:\n\u001b[1;32m-> 1349\u001b[0m         \u001b[43mresponse\u001b[49m\u001b[38;5;241;43m.\u001b[39;49m\u001b[43mbegin\u001b[49m\u001b[43m(\u001b[49m\u001b[43m)\u001b[49m\n\u001b[0;32m   1350\u001b[0m     \u001b[38;5;28;01mexcept\u001b[39;00m \u001b[38;5;167;01mConnectionError\u001b[39;00m:\n\u001b[0;32m   1351\u001b[0m         \u001b[38;5;28mself\u001b[39m\u001b[38;5;241m.\u001b[39mclose()\n",
      "File \u001b[1;32m~\\AppData\\Local\\Programs\\Python\\Python39\\lib\\http\\client.py:316\u001b[0m, in \u001b[0;36mHTTPResponse.begin\u001b[1;34m(self)\u001b[0m\n\u001b[0;32m    314\u001b[0m \u001b[38;5;66;03m# read until we get a non-100 response\u001b[39;00m\n\u001b[0;32m    315\u001b[0m \u001b[38;5;28;01mwhile\u001b[39;00m \u001b[38;5;28;01mTrue\u001b[39;00m:\n\u001b[1;32m--> 316\u001b[0m     version, status, reason \u001b[38;5;241m=\u001b[39m \u001b[38;5;28;43mself\u001b[39;49m\u001b[38;5;241;43m.\u001b[39;49m\u001b[43m_read_status\u001b[49m\u001b[43m(\u001b[49m\u001b[43m)\u001b[49m\n\u001b[0;32m    317\u001b[0m     \u001b[38;5;28;01mif\u001b[39;00m status \u001b[38;5;241m!=\u001b[39m CONTINUE:\n\u001b[0;32m    318\u001b[0m         \u001b[38;5;28;01mbreak\u001b[39;00m\n",
      "File \u001b[1;32m~\\AppData\\Local\\Programs\\Python\\Python39\\lib\\http\\client.py:277\u001b[0m, in \u001b[0;36mHTTPResponse._read_status\u001b[1;34m(self)\u001b[0m\n\u001b[0;32m    276\u001b[0m \u001b[38;5;28;01mdef\u001b[39;00m \u001b[38;5;21m_read_status\u001b[39m(\u001b[38;5;28mself\u001b[39m):\n\u001b[1;32m--> 277\u001b[0m     line \u001b[38;5;241m=\u001b[39m \u001b[38;5;28mstr\u001b[39m(\u001b[38;5;28;43mself\u001b[39;49m\u001b[38;5;241;43m.\u001b[39;49m\u001b[43mfp\u001b[49m\u001b[38;5;241;43m.\u001b[39;49m\u001b[43mreadline\u001b[49m\u001b[43m(\u001b[49m\u001b[43m_MAXLINE\u001b[49m\u001b[43m \u001b[49m\u001b[38;5;241;43m+\u001b[39;49m\u001b[43m \u001b[49m\u001b[38;5;241;43m1\u001b[39;49m\u001b[43m)\u001b[49m, \u001b[38;5;124m\"\u001b[39m\u001b[38;5;124miso-8859-1\u001b[39m\u001b[38;5;124m\"\u001b[39m)\n\u001b[0;32m    278\u001b[0m     \u001b[38;5;28;01mif\u001b[39;00m \u001b[38;5;28mlen\u001b[39m(line) \u001b[38;5;241m>\u001b[39m _MAXLINE:\n\u001b[0;32m    279\u001b[0m         \u001b[38;5;28;01mraise\u001b[39;00m LineTooLong(\u001b[38;5;124m\"\u001b[39m\u001b[38;5;124mstatus line\u001b[39m\u001b[38;5;124m\"\u001b[39m)\n",
      "File \u001b[1;32m~\\AppData\\Local\\Programs\\Python\\Python39\\lib\\socket.py:704\u001b[0m, in \u001b[0;36mSocketIO.readinto\u001b[1;34m(self, b)\u001b[0m\n\u001b[0;32m    702\u001b[0m \u001b[38;5;28;01mwhile\u001b[39;00m \u001b[38;5;28;01mTrue\u001b[39;00m:\n\u001b[0;32m    703\u001b[0m     \u001b[38;5;28;01mtry\u001b[39;00m:\n\u001b[1;32m--> 704\u001b[0m         \u001b[38;5;28;01mreturn\u001b[39;00m \u001b[38;5;28;43mself\u001b[39;49m\u001b[38;5;241;43m.\u001b[39;49m\u001b[43m_sock\u001b[49m\u001b[38;5;241;43m.\u001b[39;49m\u001b[43mrecv_into\u001b[49m\u001b[43m(\u001b[49m\u001b[43mb\u001b[49m\u001b[43m)\u001b[49m\n\u001b[0;32m    705\u001b[0m     \u001b[38;5;28;01mexcept\u001b[39;00m timeout:\n\u001b[0;32m    706\u001b[0m         \u001b[38;5;28mself\u001b[39m\u001b[38;5;241m.\u001b[39m_timeout_occurred \u001b[38;5;241m=\u001b[39m \u001b[38;5;28;01mTrue\u001b[39;00m\n",
      "\u001b[1;31mKeyboardInterrupt\u001b[0m: "
     ]
    }
   ],
   "source": [
    "data_list = []\n",
    "\n",
    "for idx, target in enumerate(tqdm(target_url_list)):\n",
    "    try :\n",
    "        driver.get(target)\n",
    "        company_name, title, team_info, main_job_title, main_job_content, requirement_title, requirement_content, preferred_title, preferred_content, wellbeing_title, wellbeing_content, skill_title, skill_list, address, current_url = detail_crawl(driver, idx)\n",
    "        time.sleep(1)\n",
    "        data = {\n",
    "            'company_name': company_name,\n",
    "            'title': title,\n",
    "            'team_info': team_info,\n",
    "            'Main Job Title': main_job_title,\n",
    "            'Main Job Content': main_job_content,\n",
    "            'Requirement Title': requirement_title,\n",
    "            'Requirement Content': requirement_content,\n",
    "            'Preferred Title': preferred_title,\n",
    "            'Preferred Content': preferred_content,\n",
    "            'Wellbeing Title': wellbeing_title,\n",
    "            'Wellbeing Content': wellbeing_content,\n",
    "            'Skill Title': skill_title,\n",
    "            'Skill List': skill_list,\n",
    "            'Address': address,\n",
    "            'Current URL': current_url\n",
    "        }\n",
    "        data_list.append(data)\n",
    "    except Exception as e:\n",
    "        print(company_name, e)\n",
    "        pass    \n",
    "\n",
    "res_df = pd.DataFrame(data_list)"
   ]
  }
 ],
 "metadata": {
  "kernelspec": {
   "display_name": "venv",
   "language": "python",
   "name": "python3"
  },
  "language_info": {
   "codemirror_mode": {
    "name": "ipython",
    "version": 3
   },
   "file_extension": ".py",
   "mimetype": "text/x-python",
   "name": "python",
   "nbconvert_exporter": "python",
   "pygments_lexer": "ipython3",
   "version": "3.9.6"
  }
 },
 "nbformat": 4,
 "nbformat_minor": 2
}
